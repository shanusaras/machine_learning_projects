{
 "cells": [
  {
   "cell_type": "markdown",
   "id": "b14496fa",
   "metadata": {},
   "source": [
    "### Problem statement "
   ]
  },
  {
   "cell_type": "raw",
   "id": "c40f6ac6",
   "metadata": {},
   "source": [
    "To predict whether a person has diabetes or not."
   ]
  },
  {
   "cell_type": "markdown",
   "id": "8a9a846c",
   "metadata": {},
   "source": [
    "### Loading the libraries "
   ]
  },
  {
   "cell_type": "code",
   "execution_count": 1,
   "id": "5e78d00a",
   "metadata": {},
   "outputs": [],
   "source": [
    "import numpy as np \n",
    "import pandas as pd\n",
    "import seaborn as sns\n",
    "import matplotlib.pyplot as plt\n",
    "import warnings\n",
    "warnings.filterwarnings(\"ignore\")"
   ]
  },
  {
   "cell_type": "markdown",
   "id": "8b157a8e",
   "metadata": {},
   "source": [
    "### Loading dataset "
   ]
  },
  {
   "cell_type": "code",
   "execution_count": 2,
   "id": "bb088ea4",
   "metadata": {},
   "outputs": [],
   "source": [
    "df = pd.read_csv(\"diabetes1-Copy1.csv\")"
   ]
  },
  {
   "cell_type": "code",
   "execution_count": 3,
   "id": "26f15a20",
   "metadata": {},
   "outputs": [
    {
     "name": "stdout",
     "output_type": "stream",
     "text": [
      "768\n"
     ]
    }
   ],
   "source": [
    "print(len(df)) # 768 records"
   ]
  },
  {
   "cell_type": "code",
   "execution_count": 4,
   "id": "099c3f52",
   "metadata": {},
   "outputs": [
    {
     "name": "stdout",
     "output_type": "stream",
     "text": [
      "   Pregnancies  Glucose  BloodPressure  SkinThickness  Insulin   BMI  \\\n",
      "0            6      148             72             35        0  33.6   \n",
      "1            1       85             66             29        0  26.6   \n",
      "2            8      183             64              0        0  23.3   \n",
      "3            1       89             66             23       94  28.1   \n",
      "4            0      137             40             35      168  43.1   \n",
      "\n",
      "   DiabetesPedigreeFunction  Age  Outcome  \n",
      "0                     0.627   50        1  \n",
      "1                     0.351   31        0  \n",
      "2                     0.672   32        1  \n",
      "3                     0.167   21        0  \n",
      "4                     2.288   33        1  \n"
     ]
    }
   ],
   "source": [
    "print(df.head())"
   ]
  },
  {
   "cell_type": "markdown",
   "id": "ddf8b597",
   "metadata": {},
   "source": [
    "### Domain analysis: "
   ]
  },
  {
   "cell_type": "markdown",
   "id": "32cc5bb0",
   "metadata": {},
   "source": [
    "### Basic checks: "
   ]
  },
  {
   "cell_type": "code",
   "execution_count": 5,
   "id": "bc6c8c17",
   "metadata": {},
   "outputs": [
    {
     "data": {
      "text/plain": [
       "(768, 9)"
      ]
     },
     "execution_count": 5,
     "metadata": {},
     "output_type": "execute_result"
    }
   ],
   "source": [
    "df.shape"
   ]
  },
  {
   "cell_type": "code",
   "execution_count": 6,
   "id": "d4342ac1",
   "metadata": {},
   "outputs": [
    {
     "name": "stdout",
     "output_type": "stream",
     "text": [
      "<class 'pandas.core.frame.DataFrame'>\n",
      "RangeIndex: 768 entries, 0 to 767\n",
      "Data columns (total 9 columns):\n",
      " #   Column                    Non-Null Count  Dtype  \n",
      "---  ------                    --------------  -----  \n",
      " 0   Pregnancies               768 non-null    int64  \n",
      " 1   Glucose                   768 non-null    int64  \n",
      " 2   BloodPressure             768 non-null    int64  \n",
      " 3   SkinThickness             768 non-null    int64  \n",
      " 4   Insulin                   768 non-null    int64  \n",
      " 5   BMI                       768 non-null    float64\n",
      " 6   DiabetesPedigreeFunction  768 non-null    float64\n",
      " 7   Age                       768 non-null    int64  \n",
      " 8   Outcome                   768 non-null    int64  \n",
      "dtypes: float64(2), int64(7)\n",
      "memory usage: 54.1 KB\n"
     ]
    }
   ],
   "source": [
    "df.info()"
   ]
  },
  {
   "cell_type": "code",
   "execution_count": 7,
   "id": "98b2fcc5",
   "metadata": {},
   "outputs": [],
   "source": [
    "# no null values, all are numerical columns\n",
    "# total 9 columns, 'Outcome' is the target variable."
   ]
  },
  {
   "cell_type": "code",
   "execution_count": 8,
   "id": "e4864575",
   "metadata": {},
   "outputs": [
    {
     "data": {
      "text/html": [
       "<div>\n",
       "<style scoped>\n",
       "    .dataframe tbody tr th:only-of-type {\n",
       "        vertical-align: middle;\n",
       "    }\n",
       "\n",
       "    .dataframe tbody tr th {\n",
       "        vertical-align: top;\n",
       "    }\n",
       "\n",
       "    .dataframe thead th {\n",
       "        text-align: right;\n",
       "    }\n",
       "</style>\n",
       "<table border=\"1\" class=\"dataframe\">\n",
       "  <thead>\n",
       "    <tr style=\"text-align: right;\">\n",
       "      <th></th>\n",
       "      <th>Pregnancies</th>\n",
       "      <th>Glucose</th>\n",
       "      <th>BloodPressure</th>\n",
       "      <th>SkinThickness</th>\n",
       "      <th>Insulin</th>\n",
       "      <th>BMI</th>\n",
       "      <th>DiabetesPedigreeFunction</th>\n",
       "      <th>Age</th>\n",
       "      <th>Outcome</th>\n",
       "    </tr>\n",
       "  </thead>\n",
       "  <tbody>\n",
       "    <tr>\n",
       "      <th>count</th>\n",
       "      <td>768.000000</td>\n",
       "      <td>768.000000</td>\n",
       "      <td>768.000000</td>\n",
       "      <td>768.000000</td>\n",
       "      <td>768.000000</td>\n",
       "      <td>768.000000</td>\n",
       "      <td>768.000000</td>\n",
       "      <td>768.000000</td>\n",
       "      <td>768.000000</td>\n",
       "    </tr>\n",
       "    <tr>\n",
       "      <th>mean</th>\n",
       "      <td>3.845052</td>\n",
       "      <td>120.894531</td>\n",
       "      <td>69.105469</td>\n",
       "      <td>20.536458</td>\n",
       "      <td>79.799479</td>\n",
       "      <td>31.992578</td>\n",
       "      <td>0.471876</td>\n",
       "      <td>33.240885</td>\n",
       "      <td>0.348958</td>\n",
       "    </tr>\n",
       "    <tr>\n",
       "      <th>std</th>\n",
       "      <td>3.369578</td>\n",
       "      <td>31.972618</td>\n",
       "      <td>19.355807</td>\n",
       "      <td>15.952218</td>\n",
       "      <td>115.244002</td>\n",
       "      <td>7.884160</td>\n",
       "      <td>0.331329</td>\n",
       "      <td>11.760232</td>\n",
       "      <td>0.476951</td>\n",
       "    </tr>\n",
       "    <tr>\n",
       "      <th>min</th>\n",
       "      <td>0.000000</td>\n",
       "      <td>0.000000</td>\n",
       "      <td>0.000000</td>\n",
       "      <td>0.000000</td>\n",
       "      <td>0.000000</td>\n",
       "      <td>0.000000</td>\n",
       "      <td>0.078000</td>\n",
       "      <td>21.000000</td>\n",
       "      <td>0.000000</td>\n",
       "    </tr>\n",
       "    <tr>\n",
       "      <th>25%</th>\n",
       "      <td>1.000000</td>\n",
       "      <td>99.000000</td>\n",
       "      <td>62.000000</td>\n",
       "      <td>0.000000</td>\n",
       "      <td>0.000000</td>\n",
       "      <td>27.300000</td>\n",
       "      <td>0.243750</td>\n",
       "      <td>24.000000</td>\n",
       "      <td>0.000000</td>\n",
       "    </tr>\n",
       "    <tr>\n",
       "      <th>50%</th>\n",
       "      <td>3.000000</td>\n",
       "      <td>117.000000</td>\n",
       "      <td>72.000000</td>\n",
       "      <td>23.000000</td>\n",
       "      <td>30.500000</td>\n",
       "      <td>32.000000</td>\n",
       "      <td>0.372500</td>\n",
       "      <td>29.000000</td>\n",
       "      <td>0.000000</td>\n",
       "    </tr>\n",
       "    <tr>\n",
       "      <th>75%</th>\n",
       "      <td>6.000000</td>\n",
       "      <td>140.250000</td>\n",
       "      <td>80.000000</td>\n",
       "      <td>32.000000</td>\n",
       "      <td>127.250000</td>\n",
       "      <td>36.600000</td>\n",
       "      <td>0.626250</td>\n",
       "      <td>41.000000</td>\n",
       "      <td>1.000000</td>\n",
       "    </tr>\n",
       "    <tr>\n",
       "      <th>max</th>\n",
       "      <td>17.000000</td>\n",
       "      <td>199.000000</td>\n",
       "      <td>122.000000</td>\n",
       "      <td>99.000000</td>\n",
       "      <td>846.000000</td>\n",
       "      <td>67.100000</td>\n",
       "      <td>2.420000</td>\n",
       "      <td>81.000000</td>\n",
       "      <td>1.000000</td>\n",
       "    </tr>\n",
       "  </tbody>\n",
       "</table>\n",
       "</div>"
      ],
      "text/plain": [
       "       Pregnancies     Glucose  BloodPressure  SkinThickness     Insulin  \\\n",
       "count   768.000000  768.000000     768.000000     768.000000  768.000000   \n",
       "mean      3.845052  120.894531      69.105469      20.536458   79.799479   \n",
       "std       3.369578   31.972618      19.355807      15.952218  115.244002   \n",
       "min       0.000000    0.000000       0.000000       0.000000    0.000000   \n",
       "25%       1.000000   99.000000      62.000000       0.000000    0.000000   \n",
       "50%       3.000000  117.000000      72.000000      23.000000   30.500000   \n",
       "75%       6.000000  140.250000      80.000000      32.000000  127.250000   \n",
       "max      17.000000  199.000000     122.000000      99.000000  846.000000   \n",
       "\n",
       "              BMI  DiabetesPedigreeFunction         Age     Outcome  \n",
       "count  768.000000                768.000000  768.000000  768.000000  \n",
       "mean    31.992578                  0.471876   33.240885    0.348958  \n",
       "std      7.884160                  0.331329   11.760232    0.476951  \n",
       "min      0.000000                  0.078000   21.000000    0.000000  \n",
       "25%     27.300000                  0.243750   24.000000    0.000000  \n",
       "50%     32.000000                  0.372500   29.000000    0.000000  \n",
       "75%     36.600000                  0.626250   41.000000    1.000000  \n",
       "max     67.100000                  2.420000   81.000000    1.000000  "
      ]
     },
     "execution_count": 8,
     "metadata": {},
     "output_type": "execute_result"
    }
   ],
   "source": [
    "df.describe()"
   ]
  },
  {
   "cell_type": "code",
   "execution_count": 16,
   "id": "1ebc52b0",
   "metadata": {},
   "outputs": [
    {
     "data": {
      "text/plain": [
       "Pregnancies\n",
       "1     135\n",
       "0     111\n",
       "2     103\n",
       "3      75\n",
       "4      68\n",
       "5      57\n",
       "6      50\n",
       "7      45\n",
       "8      38\n",
       "9      28\n",
       "10     24\n",
       "11     11\n",
       "13     10\n",
       "12      9\n",
       "14      2\n",
       "15      1\n",
       "17      1\n",
       "Name: count, dtype: int64"
      ]
     },
     "execution_count": 16,
     "metadata": {},
     "output_type": "execute_result"
    }
   ],
   "source": [
    "df.Pregnancies.value_counts()"
   ]
  },
  {
   "cell_type": "code",
   "execution_count": 9,
   "id": "8bc1b9fe",
   "metadata": {},
   "outputs": [],
   "source": [
    "# Data is corrupted because columns like Glucose, Blood Pressure, Skin Thickness, Insulin, BMI has minimum value as 0 (which indicates the qualities of a dead person).\n",
    "# finding unique values in outcome"
   ]
  },
  {
   "cell_type": "markdown",
   "id": "75df39c7",
   "metadata": {},
   "source": [
    "### EDA "
   ]
  },
  {
   "cell_type": "code",
   "execution_count": 15,
   "id": "5e88e8c1",
   "metadata": {},
   "outputs": [
    {
     "data": {
      "image/png": "[encoded data removed]",
      "text/plain": [
       "<Figure size 2000x2500 with 8 Axes>"
      ]
     },
     "metadata": {},
     "output_type": "display_data"
    }
   ],
   "source": [
    "# univariate analyis\n",
    "\n",
    "plt.figure(figsize=(20,25), facecolor= 'white')\n",
    "plotnum =1\n",
    "\n",
    "for column in df.drop('Outcome', axis=1):\n",
    "    if plotnum <9:\n",
    "        ax= plt.subplot(4,2, plotnum)\n",
    "        sns.histplot(data=df, x= column, kde= True)\n",
    "        plt.xlabel(column, fontsize= 15)\n",
    "        plt.ylabel('count', fontsize= 15)\n",
    "    plotnum +=1\n",
    "plt.tight_layout()"
   ]
  },
  {
   "cell_type": "code",
   "execution_count": null,
   "id": "feb98c3f",
   "metadata": {},
   "outputs": [],
   "source": [
    "# normal distributions: Glucose, Bloodpressure, skin thickness, BMI, Insulin\n",
    "# skewed: DiabetesPedigreeFunction, Age, Pregnancies"
   ]
  },
  {
   "cell_type": "markdown",
   "id": "0cee96f6",
   "metadata": {},
   "source": [
    "### Data cleaning "
   ]
  },
  {
   "cell_type": "code",
   "execution_count": 10,
   "id": "cfc0fc4b",
   "metadata": {},
   "outputs": [],
   "source": [
    "#no null values"
   ]
  },
  {
   "cell_type": "code",
   "execution_count": 11,
   "id": "312ba1a2",
   "metadata": {},
   "outputs": [
    {
     "data": {
      "text/plain": [
       "0"
      ]
     },
     "execution_count": 11,
     "metadata": {},
     "output_type": "execute_result"
    }
   ],
   "source": [
    "df.duplicated().sum() # no duplicate records"
   ]
  },
  {
   "cell_type": "code",
   "execution_count": 12,
   "id": "dd26b589",
   "metadata": {},
   "outputs": [],
   "source": [
    "# Handling corrupted data\n",
    "\n",
    "# two ways\n",
    "# 1. replacing 0 with median using loc function\n",
    "# 2. using replace function, median value can be adjusted in 0 places\n",
    "# 3. using replace function, Nan is entered in 0 places, \n",
    "# then mean is found by dropping Nan values, and then\n",
    "# mean value is adjusted.\n",
    "\n",
    "zero_not_accepted= ['Glucose', 'BloodPressure', 'SkinThickness', 'Insulin', 'BMI']\n",
    "\n",
    "for column in zero_not_accepted:\n",
    "    df[column]= df[column].replace(0, np.NaN) #Nan is assigned to 0 places\n",
    "    mean = int(df[column].mean(skipna= True)) # mean is found by dropping Nan\n",
    "    df[column] = df[column].replace(np.NaN, mean) # calculated mean is assigned to Nan places"
   ]
  },
  {
   "cell_type": "code",
   "execution_count": 13,
   "id": "3a1d1690",
   "metadata": {
    "collapsed": true
   },
   "outputs": [
    {
     "name": "stdout",
     "output_type": "stream",
     "text": [
      "0      148.0\n",
      "1       85.0\n",
      "2      183.0\n",
      "3       89.0\n",
      "4      137.0\n",
      "5      116.0\n",
      "6       78.0\n",
      "7      115.0\n",
      "8      197.0\n",
      "9      125.0\n",
      "10     110.0\n",
      "11     168.0\n",
      "12     139.0\n",
      "13     189.0\n",
      "14     166.0\n",
      "15     100.0\n",
      "16     118.0\n",
      "17     107.0\n",
      "18     103.0\n",
      "19     115.0\n",
      "20     126.0\n",
      "21      99.0\n",
      "22     196.0\n",
      "23     119.0\n",
      "24     143.0\n",
      "25     125.0\n",
      "26     147.0\n",
      "27      97.0\n",
      "28     145.0\n",
      "29     117.0\n",
      "30     109.0\n",
      "31     158.0\n",
      "32      88.0\n",
      "33      92.0\n",
      "34     122.0\n",
      "35     103.0\n",
      "36     138.0\n",
      "37     102.0\n",
      "38      90.0\n",
      "39     111.0\n",
      "40     180.0\n",
      "41     133.0\n",
      "42     106.0\n",
      "43     171.0\n",
      "44     159.0\n",
      "45     180.0\n",
      "46     146.0\n",
      "47      71.0\n",
      "48     103.0\n",
      "49     105.0\n",
      "50     103.0\n",
      "51     101.0\n",
      "52      88.0\n",
      "53     176.0\n",
      "54     150.0\n",
      "55      73.0\n",
      "56     187.0\n",
      "57     100.0\n",
      "58     146.0\n",
      "59     105.0\n",
      "60      84.0\n",
      "61     133.0\n",
      "62      44.0\n",
      "63     141.0\n",
      "64     114.0\n",
      "65      99.0\n",
      "66     109.0\n",
      "67     109.0\n",
      "68      95.0\n",
      "69     146.0\n",
      "70     100.0\n",
      "71     139.0\n",
      "72     126.0\n",
      "73     129.0\n",
      "74      79.0\n",
      "75     121.0\n",
      "76      62.0\n",
      "77      95.0\n",
      "78     131.0\n",
      "79     112.0\n",
      "80     113.0\n",
      "81      74.0\n",
      "82      83.0\n",
      "83     101.0\n",
      "84     137.0\n",
      "85     110.0\n",
      "86     106.0\n",
      "87     100.0\n",
      "88     136.0\n",
      "89     107.0\n",
      "90      80.0\n",
      "91     123.0\n",
      "92      81.0\n",
      "93     134.0\n",
      "94     142.0\n",
      "95     144.0\n",
      "96      92.0\n",
      "97      71.0\n",
      "98      93.0\n",
      "99     122.0\n",
      "100    163.0\n",
      "101    151.0\n",
      "102    125.0\n",
      "103     81.0\n",
      "104     85.0\n",
      "105    126.0\n",
      "106     96.0\n",
      "107    144.0\n",
      "108     83.0\n",
      "109     95.0\n",
      "110    171.0\n",
      "111    155.0\n",
      "112     89.0\n",
      "113     76.0\n",
      "114    160.0\n",
      "115    146.0\n",
      "116    124.0\n",
      "117     78.0\n",
      "118     97.0\n",
      "119     99.0\n",
      "120    162.0\n",
      "121    111.0\n",
      "122    107.0\n",
      "123    132.0\n",
      "124    113.0\n",
      "125     88.0\n",
      "126    120.0\n",
      "127    118.0\n",
      "128    117.0\n",
      "129    105.0\n",
      "130    173.0\n",
      "131    122.0\n",
      "132    170.0\n",
      "133     84.0\n",
      "134     96.0\n",
      "135    125.0\n",
      "136    100.0\n",
      "137     93.0\n",
      "138    129.0\n",
      "139    105.0\n",
      "140    128.0\n",
      "141    106.0\n",
      "142    108.0\n",
      "143    108.0\n",
      "144    154.0\n",
      "145    102.0\n",
      "146     57.0\n",
      "147    106.0\n",
      "148    147.0\n",
      "149     90.0\n",
      "150    136.0\n",
      "151    114.0\n",
      "152    156.0\n",
      "153    153.0\n",
      "154    188.0\n",
      "155    152.0\n",
      "156     99.0\n",
      "157    109.0\n",
      "158     88.0\n",
      "159    163.0\n",
      "160    151.0\n",
      "161    102.0\n",
      "162    114.0\n",
      "163    100.0\n",
      "164    131.0\n",
      "165    104.0\n",
      "166    148.0\n",
      "167    120.0\n",
      "168    110.0\n",
      "169    111.0\n",
      "170    102.0\n",
      "171    134.0\n",
      "172     87.0\n",
      "173     79.0\n",
      "174     75.0\n",
      "175    179.0\n",
      "176     85.0\n",
      "177    129.0\n",
      "178    143.0\n",
      "179    130.0\n",
      "180     87.0\n",
      "181    119.0\n",
      "182    121.0\n",
      "183     73.0\n",
      "184    141.0\n",
      "185    194.0\n",
      "186    181.0\n",
      "187    128.0\n",
      "188    109.0\n",
      "189    139.0\n",
      "190    111.0\n",
      "191    123.0\n",
      "192    159.0\n",
      "193    135.0\n",
      "194     85.0\n",
      "195    158.0\n",
      "196    105.0\n",
      "197    107.0\n",
      "198    109.0\n",
      "199    148.0\n",
      "200    113.0\n",
      "201    138.0\n",
      "202    108.0\n",
      "203     99.0\n",
      "204    103.0\n",
      "205    111.0\n",
      "206    196.0\n",
      "207    162.0\n",
      "208     96.0\n",
      "209    184.0\n",
      "210     81.0\n",
      "211    147.0\n",
      "212    179.0\n",
      "213    140.0\n",
      "214    112.0\n",
      "215    151.0\n",
      "216    109.0\n",
      "217    125.0\n",
      "218     85.0\n",
      "219    112.0\n",
      "220    177.0\n",
      "221    158.0\n",
      "222    119.0\n",
      "223    142.0\n",
      "224    100.0\n",
      "225     87.0\n",
      "226    101.0\n",
      "227    162.0\n",
      "228    197.0\n",
      "229    117.0\n",
      "230    142.0\n",
      "231    134.0\n",
      "232     79.0\n",
      "233    122.0\n",
      "234     74.0\n",
      "235    171.0\n",
      "236    181.0\n",
      "237    179.0\n",
      "238    164.0\n",
      "239    104.0\n",
      "240     91.0\n",
      "241     91.0\n",
      "242    139.0\n",
      "243    119.0\n",
      "244    146.0\n",
      "245    184.0\n",
      "246    122.0\n",
      "247    165.0\n",
      "248    124.0\n",
      "249    111.0\n",
      "250    106.0\n",
      "251    129.0\n",
      "252     90.0\n",
      "253     86.0\n",
      "254     92.0\n",
      "255    113.0\n",
      "256    111.0\n",
      "257    114.0\n",
      "258    193.0\n",
      "259    155.0\n",
      "260    191.0\n",
      "261    141.0\n",
      "262     95.0\n",
      "263    142.0\n",
      "264    123.0\n",
      "265     96.0\n",
      "266    138.0\n",
      "267    128.0\n",
      "268    102.0\n",
      "269    146.0\n",
      "270    101.0\n",
      "271    108.0\n",
      "272    122.0\n",
      "273     71.0\n",
      "274    106.0\n",
      "275    100.0\n",
      "276    106.0\n",
      "277    104.0\n",
      "278    114.0\n",
      "279    108.0\n",
      "280    146.0\n",
      "281    129.0\n",
      "282    133.0\n",
      "283    161.0\n",
      "284    108.0\n",
      "285    136.0\n",
      "286    155.0\n",
      "287    119.0\n",
      "288     96.0\n",
      "289    108.0\n",
      "290     78.0\n",
      "291    107.0\n",
      "292    128.0\n",
      "293    128.0\n",
      "294    161.0\n",
      "295    151.0\n",
      "296    146.0\n",
      "297    126.0\n",
      "298    100.0\n",
      "299    112.0\n",
      "300    167.0\n",
      "301    144.0\n",
      "302     77.0\n",
      "303    115.0\n",
      "304    150.0\n",
      "305    120.0\n",
      "306    161.0\n",
      "307    137.0\n",
      "308    128.0\n",
      "309    124.0\n",
      "310     80.0\n",
      "311    106.0\n",
      "312    155.0\n",
      "313    113.0\n",
      "314    109.0\n",
      "315    112.0\n",
      "316     99.0\n",
      "317    182.0\n",
      "318    115.0\n",
      "319    194.0\n",
      "320    129.0\n",
      "321    112.0\n",
      "322    124.0\n",
      "323    152.0\n",
      "324    112.0\n",
      "325    157.0\n",
      "326    122.0\n",
      "327    179.0\n",
      "328    102.0\n",
      "329    105.0\n",
      "330    118.0\n",
      "331     87.0\n",
      "332    180.0\n",
      "333    106.0\n",
      "334     95.0\n",
      "335    165.0\n",
      "336    117.0\n",
      "337    115.0\n",
      "338    152.0\n",
      "339    178.0\n",
      "340    130.0\n",
      "341     95.0\n",
      "342    121.0\n",
      "343    122.0\n",
      "344     95.0\n",
      "345    126.0\n",
      "346    139.0\n",
      "347    116.0\n",
      "348     99.0\n",
      "349    121.0\n",
      "350     92.0\n",
      "351    137.0\n",
      "352     61.0\n",
      "353     90.0\n",
      "354     90.0\n",
      "355    165.0\n",
      "356    125.0\n",
      "357    129.0\n",
      "358     88.0\n",
      "359    196.0\n",
      "360    189.0\n",
      "361    158.0\n",
      "362    103.0\n",
      "363    146.0\n",
      "364    147.0\n",
      "365     99.0\n",
      "366    124.0\n",
      "367    101.0\n",
      "368     81.0\n",
      "369    133.0\n",
      "370    173.0\n",
      "371    118.0\n",
      "372     84.0\n",
      "373    105.0\n",
      "374    122.0\n",
      "375    140.0\n",
      "376     98.0\n",
      "377     87.0\n",
      "378    156.0\n",
      "379     93.0\n",
      "380    107.0\n",
      "381    105.0\n",
      "382    109.0\n",
      "383     90.0\n",
      "384    125.0\n",
      "385    119.0\n",
      "386    116.0\n",
      "387    105.0\n",
      "388    144.0\n",
      "389    100.0\n",
      "390    100.0\n",
      "391    166.0\n",
      "392    131.0\n",
      "393    116.0\n",
      "394    158.0\n",
      "395    127.0\n",
      "396     96.0\n",
      "397    131.0\n",
      "398     82.0\n",
      "399    193.0\n",
      "400     95.0\n",
      "401    137.0\n",
      "402    136.0\n",
      "403     72.0\n",
      "404    168.0\n",
      "405    123.0\n",
      "406    115.0\n",
      "407    101.0\n",
      "408    197.0\n",
      "409    172.0\n",
      "410    102.0\n",
      "411    112.0\n",
      "412    143.0\n",
      "413    143.0\n",
      "414    138.0\n",
      "415    173.0\n",
      "416     97.0\n",
      "417    144.0\n",
      "418     83.0\n",
      "419    129.0\n",
      "420    119.0\n",
      "421     94.0\n",
      "422    102.0\n",
      "423    115.0\n",
      "424    151.0\n",
      "425    184.0\n",
      "426     94.0\n",
      "427    181.0\n",
      "428    135.0\n",
      "429     95.0\n",
      "430     99.0\n",
      "431     89.0\n",
      "432     80.0\n",
      "433    139.0\n",
      "434     90.0\n",
      "435    141.0\n",
      "436    140.0\n",
      "437    147.0\n",
      "438     97.0\n",
      "439    107.0\n",
      "440    189.0\n",
      "441     83.0\n",
      "442    117.0\n",
      "443    108.0\n",
      "444    117.0\n",
      "445    180.0\n",
      "446    100.0\n",
      "447     95.0\n",
      "448    104.0\n",
      "449    120.0\n",
      "450     82.0\n",
      "451    134.0\n",
      "452     91.0\n",
      "453    119.0\n",
      "454    100.0\n",
      "455    175.0\n",
      "456    135.0\n",
      "457     86.0\n",
      "458    148.0\n",
      "459    134.0\n",
      "460    120.0\n",
      "461     71.0\n",
      "462     74.0\n",
      "463     88.0\n",
      "464    115.0\n",
      "465    124.0\n",
      "466     74.0\n",
      "467     97.0\n",
      "468    120.0\n",
      "469    154.0\n",
      "470    144.0\n",
      "471    137.0\n",
      "472    119.0\n",
      "473    136.0\n",
      "474    114.0\n",
      "475    137.0\n",
      "476    105.0\n",
      "477    114.0\n",
      "478    126.0\n",
      "479    132.0\n",
      "480    158.0\n",
      "481    123.0\n",
      "482     85.0\n",
      "483     84.0\n",
      "484    145.0\n",
      "485    135.0\n",
      "486    139.0\n",
      "487    173.0\n",
      "488     99.0\n",
      "489    194.0\n",
      "490     83.0\n",
      "491     89.0\n",
      "492     99.0\n",
      "493    125.0\n",
      "494     80.0\n",
      "495    166.0\n",
      "496    110.0\n",
      "497     81.0\n",
      "498    195.0\n",
      "499    154.0\n",
      "500    117.0\n",
      "501     84.0\n",
      "502    121.0\n",
      "503     94.0\n",
      "504     96.0\n",
      "505     75.0\n",
      "506    180.0\n",
      "507    130.0\n",
      "508     84.0\n",
      "509    120.0\n",
      "510     84.0\n",
      "511    139.0\n",
      "512     91.0\n",
      "513     91.0\n",
      "514     99.0\n",
      "515    163.0\n",
      "516    145.0\n",
      "517    125.0\n",
      "518     76.0\n",
      "519    129.0\n",
      "520     68.0\n",
      "521    124.0\n",
      "522    114.0\n",
      "523    130.0\n",
      "524    125.0\n",
      "525     87.0\n",
      "526     97.0\n",
      "527    116.0\n",
      "528    117.0\n",
      "529    111.0\n",
      "530    122.0\n",
      "531    107.0\n",
      "532     86.0\n",
      "533     91.0\n",
      "534     77.0\n",
      "535    132.0\n",
      "536    105.0\n",
      "537     57.0\n",
      "538    127.0\n",
      "539    129.0\n",
      "540    100.0\n",
      "541    128.0\n",
      "542     90.0\n",
      "543     84.0\n",
      "544     88.0\n",
      "545    186.0\n",
      "546    187.0\n",
      "547    131.0\n",
      "548    164.0\n",
      "549    189.0\n",
      "550    116.0\n",
      "551     84.0\n",
      "552    114.0\n",
      "553     88.0\n",
      "554     84.0\n",
      "555    124.0\n",
      "556     97.0\n",
      "557    110.0\n",
      "558    103.0\n",
      "559     85.0\n",
      "560    125.0\n",
      "561    198.0\n",
      "562     87.0\n",
      "563     99.0\n",
      "564     91.0\n",
      "565     95.0\n",
      "566     99.0\n",
      "567     92.0\n",
      "568    154.0\n",
      "569    121.0\n",
      "570     78.0\n",
      "571    130.0\n",
      "572    111.0\n",
      "573     98.0\n",
      "574    143.0\n",
      "575    119.0\n",
      "576    108.0\n",
      "577    118.0\n",
      "578    133.0\n",
      "579    197.0\n",
      "580    151.0\n",
      "581    109.0\n",
      "582    121.0\n",
      "583    100.0\n",
      "584    124.0\n",
      "585     93.0\n",
      "586    143.0\n",
      "587    103.0\n",
      "588    176.0\n",
      "589     73.0\n",
      "590    111.0\n",
      "591    112.0\n",
      "592    132.0\n",
      "593     82.0\n",
      "594    123.0\n",
      "595    188.0\n",
      "596     67.0\n",
      "597     89.0\n",
      "598    173.0\n",
      "599    109.0\n",
      "600    108.0\n",
      "601     96.0\n",
      "602    124.0\n",
      "603    150.0\n",
      "604    183.0\n",
      "605    124.0\n",
      "606    181.0\n",
      "607     92.0\n",
      "608    152.0\n",
      "609    111.0\n",
      "610    106.0\n",
      "611    174.0\n",
      "612    168.0\n",
      "613    105.0\n",
      "614    138.0\n",
      "615    106.0\n",
      "616    117.0\n",
      "617     68.0\n",
      "618    112.0\n",
      "619    119.0\n",
      "620    112.0\n",
      "621     92.0\n",
      "622    183.0\n",
      "623     94.0\n",
      "624    108.0\n",
      "625     90.0\n",
      "626    125.0\n",
      "627    132.0\n",
      "628    128.0\n",
      "629     94.0\n",
      "630    114.0\n",
      "631    102.0\n",
      "632    111.0\n",
      "633    128.0\n",
      "634     92.0\n",
      "635    104.0\n",
      "636    104.0\n",
      "637     94.0\n",
      "638     97.0\n",
      "639    100.0\n",
      "640    102.0\n",
      "641    128.0\n",
      "642    147.0\n",
      "643     90.0\n",
      "644    103.0\n",
      "645    157.0\n",
      "646    167.0\n",
      "647    179.0\n",
      "648    136.0\n",
      "649    107.0\n",
      "650     91.0\n",
      "651    117.0\n",
      "652    123.0\n",
      "653    120.0\n",
      "654    106.0\n",
      "655    155.0\n",
      "656    101.0\n",
      "657    120.0\n",
      "658    127.0\n",
      "659     80.0\n",
      "660    162.0\n",
      "661    199.0\n",
      "662    167.0\n",
      "663    145.0\n",
      "664    115.0\n",
      "665    112.0\n",
      "666    145.0\n",
      "667    111.0\n",
      "668     98.0\n",
      "669    154.0\n",
      "670    165.0\n",
      "671     99.0\n",
      "672     68.0\n",
      "673    123.0\n",
      "674     91.0\n",
      "675    195.0\n",
      "676    156.0\n",
      "677     93.0\n",
      "678    121.0\n",
      "679    101.0\n",
      "680     56.0\n",
      "681    162.0\n",
      "682     95.0\n",
      "683    125.0\n",
      "684    136.0\n",
      "685    129.0\n",
      "686    130.0\n",
      "687    107.0\n",
      "688    140.0\n",
      "689    144.0\n",
      "690    107.0\n",
      "691    158.0\n",
      "692    121.0\n",
      "693    129.0\n",
      "694     90.0\n",
      "695    142.0\n",
      "696    169.0\n",
      "697     99.0\n",
      "698    127.0\n",
      "699    118.0\n",
      "700    122.0\n",
      "701    125.0\n",
      "702    168.0\n",
      "703    129.0\n",
      "704    110.0\n",
      "705     80.0\n",
      "706    115.0\n",
      "707    127.0\n",
      "708    164.0\n",
      "709     93.0\n",
      "710    158.0\n",
      "711    126.0\n",
      "712    129.0\n",
      "713    134.0\n",
      "714    102.0\n",
      "715    187.0\n",
      "716    173.0\n",
      "717     94.0\n",
      "718    108.0\n",
      "719     97.0\n",
      "720     83.0\n",
      "721    114.0\n",
      "722    149.0\n",
      "723    117.0\n",
      "724    111.0\n",
      "725    112.0\n",
      "726    116.0\n",
      "727    141.0\n",
      "728    175.0\n",
      "729     92.0\n",
      "730    130.0\n",
      "731    120.0\n",
      "732    174.0\n",
      "733    106.0\n",
      "734    105.0\n",
      "735     95.0\n",
      "736    126.0\n",
      "737     65.0\n",
      "738     99.0\n",
      "739    102.0\n",
      "740    120.0\n",
      "741    102.0\n",
      "742    109.0\n",
      "743    140.0\n",
      "744    153.0\n",
      "745    100.0\n",
      "746    147.0\n",
      "747     81.0\n",
      "748    187.0\n",
      "749    162.0\n",
      "750    136.0\n",
      "751    121.0\n",
      "752    108.0\n",
      "753    181.0\n",
      "754    154.0\n",
      "755    128.0\n",
      "756    137.0\n",
      "757    123.0\n",
      "758    106.0\n",
      "759    190.0\n",
      "760     88.0\n",
      "761    170.0\n",
      "762     89.0\n",
      "763    101.0\n",
      "764    122.0\n",
      "765    121.0\n",
      "766    126.0\n",
      "767     93.0\n",
      "Name: Glucose, dtype: float64\n"
     ]
    }
   ],
   "source": [
    "# checking one of the corrupted columns after handling the zeros\n",
    "pd.set_option('display.max_rows', None)\n",
    "print(df['Glucose'])"
   ]
  },
  {
   "cell_type": "code",
   "execution_count": 14,
   "id": "731143c2",
   "metadata": {},
   "outputs": [
    {
     "data": {
      "image/png": "[encoded data removed]",
      "text/plain": [
       "<Figure size 1000x500 with 8 Axes>"
      ]
     },
     "metadata": {},
     "output_type": "display_data"
    }
   ],
   "source": [
    "# checking outliers\n",
    "\n",
    "plt.figure(figsize = (10, 5), facecolor ='white')\n",
    "plotnumber =1\n",
    "\n",
    "for column in df: # (or) for column in data.drop('Outcome', axis =1):\n",
    "    if plotnumber <9:\n",
    "        ax = plt.subplot(3,3, plotnumber)\n",
    "        sns.boxplot(data= df, x= column)\n",
    "        plt.xlabel(column, fontsize = 15)\n",
    "        plt.ylabel('count', fontsize = 15)\n",
    "    plotnumber +=1\n",
    "plt.tight_layout()"
   ]
  },
  {
   "cell_type": "code",
   "execution_count": 24,
   "id": "67048433",
   "metadata": {},
   "outputs": [
    {
     "data": {
      "text/plain": [
       "Index(['Pregnancies', 'Glucose', 'BloodPressure', 'SkinThickness', 'Insulin',\n",
       "       'BMI', 'DiabetesPedigreeFunction', 'Age', 'Outcome'],\n",
       "      dtype='object')"
      ]
     },
     "execution_count": 24,
     "metadata": {},
     "output_type": "execute_result"
    }
   ],
   "source": [
    "df.columns"
   ]
  },
  {
   "cell_type": "code",
   "execution_count": 18,
   "id": "3045c88e",
   "metadata": {},
   "outputs": [
    {
     "name": "stdout",
     "output_type": "stream",
     "text": [
      "lower limit is -6.5\n",
      "upper limit is 13.5\n"
     ]
    }
   ],
   "source": [
    "# Handling outliers\n",
    "# Pregnancies\n",
    "# skewed distribution- iqr method\n",
    "\n",
    "q1=df['Pregnancies'].quantile(0.25)\n",
    "q3=df['Pregnancies'].quantile(0.75)\n",
    "iqr= q3 - q1\n",
    "lower_lim = q1 - 1.5*iqr\n",
    "upper_lim = q3 + 1.5*iqr\n",
    "print('lower limit is',lower_lim)\n",
    "print('upper limit is', upper_lim)\n"
   ]
  },
  {
   "cell_type": "code",
   "execution_count": 19,
   "id": "53d805c2",
   "metadata": {},
   "outputs": [
    {
     "data": {
      "text/html": [
       "<div>\n",
       "<style scoped>\n",
       "    .dataframe tbody tr th:only-of-type {\n",
       "        vertical-align: middle;\n",
       "    }\n",
       "\n",
       "    .dataframe tbody tr th {\n",
       "        vertical-align: top;\n",
       "    }\n",
       "\n",
       "    .dataframe thead th {\n",
       "        text-align: right;\n",
       "    }\n",
       "</style>\n",
       "<table border=\"1\" class=\"dataframe\">\n",
       "  <thead>\n",
       "    <tr style=\"text-align: right;\">\n",
       "      <th></th>\n",
       "      <th>Pregnancies</th>\n",
       "      <th>Glucose</th>\n",
       "      <th>BloodPressure</th>\n",
       "      <th>SkinThickness</th>\n",
       "      <th>Insulin</th>\n",
       "      <th>BMI</th>\n",
       "      <th>DiabetesPedigreeFunction</th>\n",
       "      <th>Age</th>\n",
       "      <th>Outcome</th>\n",
       "    </tr>\n",
       "  </thead>\n",
       "  <tbody>\n",
       "  </tbody>\n",
       "</table>\n",
       "</div>"
      ],
      "text/plain": [
       "Empty DataFrame\n",
       "Columns: [Pregnancies, Glucose, BloodPressure, SkinThickness, Insulin, BMI, DiabetesPedigreeFunction, Age, Outcome]\n",
       "Index: []"
      ]
     },
     "execution_count": 19,
     "metadata": {},
     "output_type": "execute_result"
    }
   ],
   "source": [
    "df.loc[df['Pregnancies']< lower_lim]"
   ]
  },
  {
   "cell_type": "code",
   "execution_count": 20,
   "id": "fd1c26f7",
   "metadata": {},
   "outputs": [
    {
     "data": {
      "text/html": [
       "<div>\n",
       "<style scoped>\n",
       "    .dataframe tbody tr th:only-of-type {\n",
       "        vertical-align: middle;\n",
       "    }\n",
       "\n",
       "    .dataframe tbody tr th {\n",
       "        vertical-align: top;\n",
       "    }\n",
       "\n",
       "    .dataframe thead th {\n",
       "        text-align: right;\n",
       "    }\n",
       "</style>\n",
       "<table border=\"1\" class=\"dataframe\">\n",
       "  <thead>\n",
       "    <tr style=\"text-align: right;\">\n",
       "      <th></th>\n",
       "      <th>Pregnancies</th>\n",
       "      <th>Glucose</th>\n",
       "      <th>BloodPressure</th>\n",
       "      <th>SkinThickness</th>\n",
       "      <th>Insulin</th>\n",
       "      <th>BMI</th>\n",
       "      <th>DiabetesPedigreeFunction</th>\n",
       "      <th>Age</th>\n",
       "      <th>Outcome</th>\n",
       "    </tr>\n",
       "  </thead>\n",
       "  <tbody>\n",
       "    <tr>\n",
       "      <th>88</th>\n",
       "      <td>15</td>\n",
       "      <td>136.0</td>\n",
       "      <td>70.0</td>\n",
       "      <td>32.0</td>\n",
       "      <td>110.0</td>\n",
       "      <td>37.1</td>\n",
       "      <td>0.153</td>\n",
       "      <td>43</td>\n",
       "      <td>1</td>\n",
       "    </tr>\n",
       "    <tr>\n",
       "      <th>159</th>\n",
       "      <td>17</td>\n",
       "      <td>163.0</td>\n",
       "      <td>72.0</td>\n",
       "      <td>41.0</td>\n",
       "      <td>114.0</td>\n",
       "      <td>40.9</td>\n",
       "      <td>0.817</td>\n",
       "      <td>47</td>\n",
       "      <td>1</td>\n",
       "    </tr>\n",
       "    <tr>\n",
       "      <th>298</th>\n",
       "      <td>14</td>\n",
       "      <td>100.0</td>\n",
       "      <td>78.0</td>\n",
       "      <td>25.0</td>\n",
       "      <td>184.0</td>\n",
       "      <td>36.6</td>\n",
       "      <td>0.412</td>\n",
       "      <td>46</td>\n",
       "      <td>1</td>\n",
       "    </tr>\n",
       "    <tr>\n",
       "      <th>455</th>\n",
       "      <td>14</td>\n",
       "      <td>175.0</td>\n",
       "      <td>62.0</td>\n",
       "      <td>30.0</td>\n",
       "      <td>155.0</td>\n",
       "      <td>33.6</td>\n",
       "      <td>0.212</td>\n",
       "      <td>38</td>\n",
       "      <td>1</td>\n",
       "    </tr>\n",
       "  </tbody>\n",
       "</table>\n",
       "</div>"
      ],
      "text/plain": [
       "     Pregnancies  Glucose  BloodPressure  SkinThickness  Insulin   BMI  \\\n",
       "88            15    136.0           70.0           32.0    110.0  37.1   \n",
       "159           17    163.0           72.0           41.0    114.0  40.9   \n",
       "298           14    100.0           78.0           25.0    184.0  36.6   \n",
       "455           14    175.0           62.0           30.0    155.0  33.6   \n",
       "\n",
       "     DiabetesPedigreeFunction  Age  Outcome  \n",
       "88                      0.153   43        1  \n",
       "159                     0.817   47        1  \n",
       "298                     0.412   46        1  \n",
       "455                     0.212   38        1  "
      ]
     },
     "execution_count": 20,
     "metadata": {},
     "output_type": "execute_result"
    }
   ],
   "source": [
    "df.loc[df['Pregnancies'] > upper_lim]"
   ]
  },
  {
   "cell_type": "code",
   "execution_count": 21,
   "id": "919e228f",
   "metadata": {},
   "outputs": [],
   "source": [
    "df.loc[df['Pregnancies'] > upper_lim, 'Pregnancies'] = np.median(df['Pregnancies'])"
   ]
  },
  {
   "cell_type": "code",
   "execution_count": 22,
   "id": "dceebfa3",
   "metadata": {},
   "outputs": [
    {
     "data": {
      "text/plain": [
       "<Axes: xlabel='Pregnancies'>"
      ]
     },
     "execution_count": 22,
     "metadata": {},
     "output_type": "execute_result"
    },
    {
     "data": {
      "image/png": "[encoded data removed]",
      "text/plain": [
       "<Figure size 640x480 with 1 Axes>"
      ]
     },
     "metadata": {},
     "output_type": "display_data"
    }
   ],
   "source": [
    "sns.boxplot(data= df, x= 'Pregnancies')"
   ]
  },
  {
   "cell_type": "code",
   "execution_count": 23,
   "id": "e54b5175",
   "metadata": {},
   "outputs": [
    {
     "name": "stdout",
     "output_type": "stream",
     "text": [
      "lower limit is 36.096793548065584\n",
      "upper limit is 108.67664395193441\n"
     ]
    }
   ],
   "source": [
    "# BloodPressure\n",
    "# normal distribution\n",
    "mean= np.mean(df['BloodPressure'])\n",
    "std= df.BloodPressure.std()\n",
    "lower_lim = mean - 3*std\n",
    "upper_lim = mean + 3*std\n",
    "print('lower limit is', lower_lim)\n",
    "print('upper limit is', upper_lim)\n",
    "\n"
   ]
  },
  {
   "cell_type": "code",
   "execution_count": 24,
   "id": "5cad1086",
   "metadata": {},
   "outputs": [
    {
     "data": {
      "text/html": [
       "<div>\n",
       "<style scoped>\n",
       "    .dataframe tbody tr th:only-of-type {\n",
       "        vertical-align: middle;\n",
       "    }\n",
       "\n",
       "    .dataframe tbody tr th {\n",
       "        vertical-align: top;\n",
       "    }\n",
       "\n",
       "    .dataframe thead th {\n",
       "        text-align: right;\n",
       "    }\n",
       "</style>\n",
       "<table border=\"1\" class=\"dataframe\">\n",
       "  <thead>\n",
       "    <tr style=\"text-align: right;\">\n",
       "      <th></th>\n",
       "      <th>Pregnancies</th>\n",
       "      <th>Glucose</th>\n",
       "      <th>BloodPressure</th>\n",
       "      <th>SkinThickness</th>\n",
       "      <th>Insulin</th>\n",
       "      <th>BMI</th>\n",
       "      <th>DiabetesPedigreeFunction</th>\n",
       "      <th>Age</th>\n",
       "      <th>Outcome</th>\n",
       "    </tr>\n",
       "  </thead>\n",
       "  <tbody>\n",
       "    <tr>\n",
       "      <th>18</th>\n",
       "      <td>1</td>\n",
       "      <td>103.0</td>\n",
       "      <td>30.0</td>\n",
       "      <td>38.0</td>\n",
       "      <td>83.0</td>\n",
       "      <td>43.3</td>\n",
       "      <td>0.183</td>\n",
       "      <td>33</td>\n",
       "      <td>0</td>\n",
       "    </tr>\n",
       "    <tr>\n",
       "      <th>125</th>\n",
       "      <td>1</td>\n",
       "      <td>88.0</td>\n",
       "      <td>30.0</td>\n",
       "      <td>42.0</td>\n",
       "      <td>99.0</td>\n",
       "      <td>55.0</td>\n",
       "      <td>0.496</td>\n",
       "      <td>26</td>\n",
       "      <td>1</td>\n",
       "    </tr>\n",
       "    <tr>\n",
       "      <th>597</th>\n",
       "      <td>1</td>\n",
       "      <td>89.0</td>\n",
       "      <td>24.0</td>\n",
       "      <td>19.0</td>\n",
       "      <td>25.0</td>\n",
       "      <td>27.8</td>\n",
       "      <td>0.559</td>\n",
       "      <td>21</td>\n",
       "      <td>0</td>\n",
       "    </tr>\n",
       "  </tbody>\n",
       "</table>\n",
       "</div>"
      ],
      "text/plain": [
       "     Pregnancies  Glucose  BloodPressure  SkinThickness  Insulin   BMI  \\\n",
       "18             1    103.0           30.0           38.0     83.0  43.3   \n",
       "125            1     88.0           30.0           42.0     99.0  55.0   \n",
       "597            1     89.0           24.0           19.0     25.0  27.8   \n",
       "\n",
       "     DiabetesPedigreeFunction  Age  Outcome  \n",
       "18                      0.183   33        0  \n",
       "125                     0.496   26        1  \n",
       "597                     0.559   21        0  "
      ]
     },
     "execution_count": 24,
     "metadata": {},
     "output_type": "execute_result"
    }
   ],
   "source": [
    "df.loc[df['BloodPressure'] < lower_lim]"
   ]
  },
  {
   "cell_type": "code",
   "execution_count": 25,
   "id": "42872f54",
   "metadata": {},
   "outputs": [
    {
     "data": {
      "text/html": [
       "<div>\n",
       "<style scoped>\n",
       "    .dataframe tbody tr th:only-of-type {\n",
       "        vertical-align: middle;\n",
       "    }\n",
       "\n",
       "    .dataframe tbody tr th {\n",
       "        vertical-align: top;\n",
       "    }\n",
       "\n",
       "    .dataframe thead th {\n",
       "        text-align: right;\n",
       "    }\n",
       "</style>\n",
       "<table border=\"1\" class=\"dataframe\">\n",
       "  <thead>\n",
       "    <tr style=\"text-align: right;\">\n",
       "      <th></th>\n",
       "      <th>Pregnancies</th>\n",
       "      <th>Glucose</th>\n",
       "      <th>BloodPressure</th>\n",
       "      <th>SkinThickness</th>\n",
       "      <th>Insulin</th>\n",
       "      <th>BMI</th>\n",
       "      <th>DiabetesPedigreeFunction</th>\n",
       "      <th>Age</th>\n",
       "      <th>Outcome</th>\n",
       "    </tr>\n",
       "  </thead>\n",
       "  <tbody>\n",
       "    <tr>\n",
       "      <th>43</th>\n",
       "      <td>9</td>\n",
       "      <td>171.0</td>\n",
       "      <td>110.0</td>\n",
       "      <td>24.0</td>\n",
       "      <td>240.0</td>\n",
       "      <td>45.4</td>\n",
       "      <td>0.721</td>\n",
       "      <td>54</td>\n",
       "      <td>1</td>\n",
       "    </tr>\n",
       "    <tr>\n",
       "      <th>106</th>\n",
       "      <td>1</td>\n",
       "      <td>96.0</td>\n",
       "      <td>122.0</td>\n",
       "      <td>29.0</td>\n",
       "      <td>155.0</td>\n",
       "      <td>22.4</td>\n",
       "      <td>0.207</td>\n",
       "      <td>27</td>\n",
       "      <td>0</td>\n",
       "    </tr>\n",
       "    <tr>\n",
       "      <th>177</th>\n",
       "      <td>0</td>\n",
       "      <td>129.0</td>\n",
       "      <td>110.0</td>\n",
       "      <td>46.0</td>\n",
       "      <td>130.0</td>\n",
       "      <td>67.1</td>\n",
       "      <td>0.319</td>\n",
       "      <td>26</td>\n",
       "      <td>1</td>\n",
       "    </tr>\n",
       "    <tr>\n",
       "      <th>549</th>\n",
       "      <td>4</td>\n",
       "      <td>189.0</td>\n",
       "      <td>110.0</td>\n",
       "      <td>31.0</td>\n",
       "      <td>155.0</td>\n",
       "      <td>28.5</td>\n",
       "      <td>0.680</td>\n",
       "      <td>37</td>\n",
       "      <td>0</td>\n",
       "    </tr>\n",
       "    <tr>\n",
       "      <th>691</th>\n",
       "      <td>13</td>\n",
       "      <td>158.0</td>\n",
       "      <td>114.0</td>\n",
       "      <td>29.0</td>\n",
       "      <td>155.0</td>\n",
       "      <td>42.3</td>\n",
       "      <td>0.257</td>\n",
       "      <td>44</td>\n",
       "      <td>1</td>\n",
       "    </tr>\n",
       "  </tbody>\n",
       "</table>\n",
       "</div>"
      ],
      "text/plain": [
       "     Pregnancies  Glucose  BloodPressure  SkinThickness  Insulin   BMI  \\\n",
       "43             9    171.0          110.0           24.0    240.0  45.4   \n",
       "106            1     96.0          122.0           29.0    155.0  22.4   \n",
       "177            0    129.0          110.0           46.0    130.0  67.1   \n",
       "549            4    189.0          110.0           31.0    155.0  28.5   \n",
       "691           13    158.0          114.0           29.0    155.0  42.3   \n",
       "\n",
       "     DiabetesPedigreeFunction  Age  Outcome  \n",
       "43                      0.721   54        1  \n",
       "106                     0.207   27        0  \n",
       "177                     0.319   26        1  \n",
       "549                     0.680   37        0  \n",
       "691                     0.257   44        1  "
      ]
     },
     "execution_count": 25,
     "metadata": {},
     "output_type": "execute_result"
    }
   ],
   "source": [
    "df.loc[df['BloodPressure'] > upper_lim]"
   ]
  },
  {
   "cell_type": "code",
   "execution_count": 26,
   "id": "06188d80",
   "metadata": {},
   "outputs": [],
   "source": [
    "df.loc[df['BloodPressure'] < lower_lim, 'BloodPressure'] = np.mean(df['BloodPressure'])"
   ]
  },
  {
   "cell_type": "code",
   "execution_count": 27,
   "id": "17b63104",
   "metadata": {},
   "outputs": [],
   "source": [
    "df.loc[df['BloodPressure'] > upper_lim, 'BloodPressure'] = np.mean(df['BloodPressure'])"
   ]
  },
  {
   "cell_type": "code",
   "execution_count": 28,
   "id": "53aa813a",
   "metadata": {},
   "outputs": [
    {
     "data": {
      "text/plain": [
       "<Axes: xlabel='BloodPressure'>"
      ]
     },
     "execution_count": 28,
     "metadata": {},
     "output_type": "execute_result"
    },
    {
     "data": {
      "image/png": "[encoded data removed]",
      "text/plain": [
       "<Figure size 640x480 with 1 Axes>"
      ]
     },
     "metadata": {},
     "output_type": "display_data"
    }
   ],
   "source": [
    "sns.boxplot(data= df, x= 'BloodPressure')"
   ]
  },
  {
   "cell_type": "code",
   "execution_count": 35,
   "id": "80039936",
   "metadata": {},
   "outputs": [
    {
     "name": "stdout",
     "output_type": "stream",
     "text": [
      "lower limit is 2.7344098473974583\n",
      "upper limit is 55.48173598593588\n"
     ]
    }
   ],
   "source": [
    "# SkinThickness\n",
    "# normal distribution\n",
    "\n",
    "mean= np.mean(df['SkinThickness'])\n",
    "std= df.SkinThickness.std()\n",
    "lower_lim = mean - 3*std\n",
    "upper_lim = mean + 3*std\n",
    "print('lower limit is', lower_lim)\n",
    "print('upper limit is', upper_lim)\n"
   ]
  },
  {
   "cell_type": "code",
   "execution_count": 36,
   "id": "67729af4",
   "metadata": {},
   "outputs": [
    {
     "data": {
      "text/html": [
       "<div>\n",
       "<style scoped>\n",
       "    .dataframe tbody tr th:only-of-type {\n",
       "        vertical-align: middle;\n",
       "    }\n",
       "\n",
       "    .dataframe tbody tr th {\n",
       "        vertical-align: top;\n",
       "    }\n",
       "\n",
       "    .dataframe thead th {\n",
       "        text-align: right;\n",
       "    }\n",
       "</style>\n",
       "<table border=\"1\" class=\"dataframe\">\n",
       "  <thead>\n",
       "    <tr style=\"text-align: right;\">\n",
       "      <th></th>\n",
       "      <th>Pregnancies</th>\n",
       "      <th>Glucose</th>\n",
       "      <th>BloodPressure</th>\n",
       "      <th>SkinThickness</th>\n",
       "      <th>Insulin</th>\n",
       "      <th>BMI</th>\n",
       "      <th>DiabetesPedigreeFunction</th>\n",
       "      <th>Age</th>\n",
       "      <th>Outcome</th>\n",
       "    </tr>\n",
       "  </thead>\n",
       "  <tbody>\n",
       "  </tbody>\n",
       "</table>\n",
       "</div>"
      ],
      "text/plain": [
       "Empty DataFrame\n",
       "Columns: [Pregnancies, Glucose, BloodPressure, SkinThickness, Insulin, BMI, DiabetesPedigreeFunction, Age, Outcome]\n",
       "Index: []"
      ]
     },
     "execution_count": 36,
     "metadata": {},
     "output_type": "execute_result"
    }
   ],
   "source": [
    "df.loc[df['SkinThickness'] < lower_lim]"
   ]
  },
  {
   "cell_type": "code",
   "execution_count": 37,
   "id": "7d1a65d4",
   "metadata": {},
   "outputs": [
    {
     "data": {
      "text/html": [
       "<div>\n",
       "<style scoped>\n",
       "    .dataframe tbody tr th:only-of-type {\n",
       "        vertical-align: middle;\n",
       "    }\n",
       "\n",
       "    .dataframe tbody tr th {\n",
       "        vertical-align: top;\n",
       "    }\n",
       "\n",
       "    .dataframe thead th {\n",
       "        text-align: right;\n",
       "    }\n",
       "</style>\n",
       "<table border=\"1\" class=\"dataframe\">\n",
       "  <thead>\n",
       "    <tr style=\"text-align: right;\">\n",
       "      <th></th>\n",
       "      <th>Pregnancies</th>\n",
       "      <th>Glucose</th>\n",
       "      <th>BloodPressure</th>\n",
       "      <th>SkinThickness</th>\n",
       "      <th>Insulin</th>\n",
       "      <th>BMI</th>\n",
       "      <th>DiabetesPedigreeFunction</th>\n",
       "      <th>Age</th>\n",
       "      <th>Outcome</th>\n",
       "    </tr>\n",
       "  </thead>\n",
       "  <tbody>\n",
       "    <tr>\n",
       "      <th>57</th>\n",
       "      <td>0</td>\n",
       "      <td>100.0</td>\n",
       "      <td>88.0</td>\n",
       "      <td>60.0</td>\n",
       "      <td>110.0</td>\n",
       "      <td>46.8</td>\n",
       "      <td>0.962</td>\n",
       "      <td>31</td>\n",
       "      <td>0</td>\n",
       "    </tr>\n",
       "    <tr>\n",
       "      <th>120</th>\n",
       "      <td>0</td>\n",
       "      <td>162.0</td>\n",
       "      <td>76.0</td>\n",
       "      <td>56.0</td>\n",
       "      <td>100.0</td>\n",
       "      <td>53.2</td>\n",
       "      <td>0.759</td>\n",
       "      <td>25</td>\n",
       "      <td>1</td>\n",
       "    </tr>\n",
       "    <tr>\n",
       "      <th>445</th>\n",
       "      <td>0</td>\n",
       "      <td>180.0</td>\n",
       "      <td>78.0</td>\n",
       "      <td>63.0</td>\n",
       "      <td>14.0</td>\n",
       "      <td>59.4</td>\n",
       "      <td>2.420</td>\n",
       "      <td>25</td>\n",
       "      <td>1</td>\n",
       "    </tr>\n",
       "    <tr>\n",
       "      <th>579</th>\n",
       "      <td>2</td>\n",
       "      <td>197.0</td>\n",
       "      <td>70.0</td>\n",
       "      <td>99.0</td>\n",
       "      <td>155.0</td>\n",
       "      <td>34.7</td>\n",
       "      <td>0.575</td>\n",
       "      <td>62</td>\n",
       "      <td>1</td>\n",
       "    </tr>\n",
       "  </tbody>\n",
       "</table>\n",
       "</div>"
      ],
      "text/plain": [
       "     Pregnancies  Glucose  BloodPressure  SkinThickness  Insulin   BMI  \\\n",
       "57             0    100.0           88.0           60.0    110.0  46.8   \n",
       "120            0    162.0           76.0           56.0    100.0  53.2   \n",
       "445            0    180.0           78.0           63.0     14.0  59.4   \n",
       "579            2    197.0           70.0           99.0    155.0  34.7   \n",
       "\n",
       "     DiabetesPedigreeFunction  Age  Outcome  \n",
       "57                      0.962   31        0  \n",
       "120                     0.759   25        1  \n",
       "445                     2.420   25        1  \n",
       "579                     0.575   62        1  "
      ]
     },
     "execution_count": 37,
     "metadata": {},
     "output_type": "execute_result"
    }
   ],
   "source": [
    "df.loc[df['SkinThickness'] > upper_lim]"
   ]
  },
  {
   "cell_type": "code",
   "execution_count": 38,
   "id": "f1e6e255",
   "metadata": {},
   "outputs": [],
   "source": [
    "df.loc[df['SkinThickness'] > upper_lim, 'SkinThickness'] = np.mean(df['SkinThickness'])\n"
   ]
  },
  {
   "cell_type": "code",
   "execution_count": 40,
   "id": "617526a9",
   "metadata": {},
   "outputs": [
    {
     "data": {
      "text/plain": [
       "<Axes: xlabel='SkinThickness'>"
      ]
     },
     "execution_count": 40,
     "metadata": {},
     "output_type": "execute_result"
    },
    {
     "data": {
      "image/png": "[encoded data removed]",
      "text/plain": [
       "<Figure size 640x480 with 1 Axes>"
      ]
     },
     "metadata": {},
     "output_type": "display_data"
    }
   ],
   "source": [
    "sns.boxplot(data= df, x= 'SkinThickness')"
   ]
  },
  {
   "cell_type": "code",
   "execution_count": 41,
   "id": "b05f2bf5",
   "metadata": {},
   "outputs": [
    {
     "name": "stdout",
     "output_type": "stream",
     "text": [
      "lower limit is -99.78339975395338\n",
      "upper limit is 410.3458997539534\n"
     ]
    }
   ],
   "source": [
    "# Insulin\n",
    "# normal distribution\n",
    "\n",
    "mean= np.mean(df['Insulin'])\n",
    "std= df.Insulin.std()\n",
    "lower_lim = mean - 3*std\n",
    "upper_lim = mean + 3*std\n",
    "print('lower limit is', lower_lim)\n",
    "print('upper limit is', upper_lim)\n"
   ]
  },
  {
   "cell_type": "code",
   "execution_count": 42,
   "id": "e12130f2",
   "metadata": {},
   "outputs": [
    {
     "data": {
      "text/html": [
       "<div>\n",
       "<style scoped>\n",
       "    .dataframe tbody tr th:only-of-type {\n",
       "        vertical-align: middle;\n",
       "    }\n",
       "\n",
       "    .dataframe tbody tr th {\n",
       "        vertical-align: top;\n",
       "    }\n",
       "\n",
       "    .dataframe thead th {\n",
       "        text-align: right;\n",
       "    }\n",
       "</style>\n",
       "<table border=\"1\" class=\"dataframe\">\n",
       "  <thead>\n",
       "    <tr style=\"text-align: right;\">\n",
       "      <th></th>\n",
       "      <th>Pregnancies</th>\n",
       "      <th>Glucose</th>\n",
       "      <th>BloodPressure</th>\n",
       "      <th>SkinThickness</th>\n",
       "      <th>Insulin</th>\n",
       "      <th>BMI</th>\n",
       "      <th>DiabetesPedigreeFunction</th>\n",
       "      <th>Age</th>\n",
       "      <th>Outcome</th>\n",
       "    </tr>\n",
       "  </thead>\n",
       "  <tbody>\n",
       "  </tbody>\n",
       "</table>\n",
       "</div>"
      ],
      "text/plain": [
       "Empty DataFrame\n",
       "Columns: [Pregnancies, Glucose, BloodPressure, SkinThickness, Insulin, BMI, DiabetesPedigreeFunction, Age, Outcome]\n",
       "Index: []"
      ]
     },
     "execution_count": 42,
     "metadata": {},
     "output_type": "execute_result"
    }
   ],
   "source": [
    "df.loc[df['Insulin'] < lower_lim]"
   ]
  },
  {
   "cell_type": "code",
   "execution_count": 43,
   "id": "4e77fbeb",
   "metadata": {},
   "outputs": [
    {
     "data": {
      "text/html": [
       "<div>\n",
       "<style scoped>\n",
       "    .dataframe tbody tr th:only-of-type {\n",
       "        vertical-align: middle;\n",
       "    }\n",
       "\n",
       "    .dataframe tbody tr th {\n",
       "        vertical-align: top;\n",
       "    }\n",
       "\n",
       "    .dataframe thead th {\n",
       "        text-align: right;\n",
       "    }\n",
       "</style>\n",
       "<table border=\"1\" class=\"dataframe\">\n",
       "  <thead>\n",
       "    <tr style=\"text-align: right;\">\n",
       "      <th></th>\n",
       "      <th>Pregnancies</th>\n",
       "      <th>Glucose</th>\n",
       "      <th>BloodPressure</th>\n",
       "      <th>SkinThickness</th>\n",
       "      <th>Insulin</th>\n",
       "      <th>BMI</th>\n",
       "      <th>DiabetesPedigreeFunction</th>\n",
       "      <th>Age</th>\n",
       "      <th>Outcome</th>\n",
       "    </tr>\n",
       "  </thead>\n",
       "  <tbody>\n",
       "    <tr>\n",
       "      <th>8</th>\n",
       "      <td>2</td>\n",
       "      <td>197.0</td>\n",
       "      <td>70.0</td>\n",
       "      <td>45.0</td>\n",
       "      <td>543.0</td>\n",
       "      <td>30.5</td>\n",
       "      <td>0.158</td>\n",
       "      <td>53</td>\n",
       "      <td>1</td>\n",
       "    </tr>\n",
       "    <tr>\n",
       "      <th>13</th>\n",
       "      <td>1</td>\n",
       "      <td>189.0</td>\n",
       "      <td>60.0</td>\n",
       "      <td>23.0</td>\n",
       "      <td>846.0</td>\n",
       "      <td>30.1</td>\n",
       "      <td>0.398</td>\n",
       "      <td>59</td>\n",
       "      <td>1</td>\n",
       "    </tr>\n",
       "    <tr>\n",
       "      <th>111</th>\n",
       "      <td>8</td>\n",
       "      <td>155.0</td>\n",
       "      <td>62.0</td>\n",
       "      <td>26.0</td>\n",
       "      <td>495.0</td>\n",
       "      <td>34.0</td>\n",
       "      <td>0.543</td>\n",
       "      <td>46</td>\n",
       "      <td>1</td>\n",
       "    </tr>\n",
       "    <tr>\n",
       "      <th>153</th>\n",
       "      <td>1</td>\n",
       "      <td>153.0</td>\n",
       "      <td>82.0</td>\n",
       "      <td>42.0</td>\n",
       "      <td>485.0</td>\n",
       "      <td>40.6</td>\n",
       "      <td>0.687</td>\n",
       "      <td>23</td>\n",
       "      <td>0</td>\n",
       "    </tr>\n",
       "    <tr>\n",
       "      <th>186</th>\n",
       "      <td>8</td>\n",
       "      <td>181.0</td>\n",
       "      <td>68.0</td>\n",
       "      <td>36.0</td>\n",
       "      <td>495.0</td>\n",
       "      <td>30.1</td>\n",
       "      <td>0.615</td>\n",
       "      <td>60</td>\n",
       "      <td>1</td>\n",
       "    </tr>\n",
       "    <tr>\n",
       "      <th>220</th>\n",
       "      <td>0</td>\n",
       "      <td>177.0</td>\n",
       "      <td>60.0</td>\n",
       "      <td>29.0</td>\n",
       "      <td>478.0</td>\n",
       "      <td>34.6</td>\n",
       "      <td>1.072</td>\n",
       "      <td>21</td>\n",
       "      <td>1</td>\n",
       "    </tr>\n",
       "    <tr>\n",
       "      <th>228</th>\n",
       "      <td>4</td>\n",
       "      <td>197.0</td>\n",
       "      <td>70.0</td>\n",
       "      <td>39.0</td>\n",
       "      <td>744.0</td>\n",
       "      <td>36.7</td>\n",
       "      <td>2.329</td>\n",
       "      <td>31</td>\n",
       "      <td>0</td>\n",
       "    </tr>\n",
       "    <tr>\n",
       "      <th>247</th>\n",
       "      <td>0</td>\n",
       "      <td>165.0</td>\n",
       "      <td>90.0</td>\n",
       "      <td>33.0</td>\n",
       "      <td>680.0</td>\n",
       "      <td>52.3</td>\n",
       "      <td>0.427</td>\n",
       "      <td>23</td>\n",
       "      <td>0</td>\n",
       "    </tr>\n",
       "    <tr>\n",
       "      <th>286</th>\n",
       "      <td>5</td>\n",
       "      <td>155.0</td>\n",
       "      <td>84.0</td>\n",
       "      <td>44.0</td>\n",
       "      <td>545.0</td>\n",
       "      <td>38.7</td>\n",
       "      <td>0.619</td>\n",
       "      <td>34</td>\n",
       "      <td>0</td>\n",
       "    </tr>\n",
       "    <tr>\n",
       "      <th>370</th>\n",
       "      <td>3</td>\n",
       "      <td>173.0</td>\n",
       "      <td>82.0</td>\n",
       "      <td>48.0</td>\n",
       "      <td>465.0</td>\n",
       "      <td>38.4</td>\n",
       "      <td>2.137</td>\n",
       "      <td>25</td>\n",
       "      <td>1</td>\n",
       "    </tr>\n",
       "    <tr>\n",
       "      <th>392</th>\n",
       "      <td>1</td>\n",
       "      <td>131.0</td>\n",
       "      <td>64.0</td>\n",
       "      <td>14.0</td>\n",
       "      <td>415.0</td>\n",
       "      <td>23.7</td>\n",
       "      <td>0.389</td>\n",
       "      <td>21</td>\n",
       "      <td>0</td>\n",
       "    </tr>\n",
       "    <tr>\n",
       "      <th>409</th>\n",
       "      <td>1</td>\n",
       "      <td>172.0</td>\n",
       "      <td>68.0</td>\n",
       "      <td>49.0</td>\n",
       "      <td>579.0</td>\n",
       "      <td>42.4</td>\n",
       "      <td>0.702</td>\n",
       "      <td>28</td>\n",
       "      <td>1</td>\n",
       "    </tr>\n",
       "    <tr>\n",
       "      <th>415</th>\n",
       "      <td>3</td>\n",
       "      <td>173.0</td>\n",
       "      <td>84.0</td>\n",
       "      <td>33.0</td>\n",
       "      <td>474.0</td>\n",
       "      <td>35.7</td>\n",
       "      <td>0.258</td>\n",
       "      <td>22</td>\n",
       "      <td>1</td>\n",
       "    </tr>\n",
       "    <tr>\n",
       "      <th>486</th>\n",
       "      <td>1</td>\n",
       "      <td>139.0</td>\n",
       "      <td>62.0</td>\n",
       "      <td>41.0</td>\n",
       "      <td>480.0</td>\n",
       "      <td>40.7</td>\n",
       "      <td>0.536</td>\n",
       "      <td>21</td>\n",
       "      <td>0</td>\n",
       "    </tr>\n",
       "    <tr>\n",
       "      <th>584</th>\n",
       "      <td>8</td>\n",
       "      <td>124.0</td>\n",
       "      <td>76.0</td>\n",
       "      <td>24.0</td>\n",
       "      <td>600.0</td>\n",
       "      <td>28.7</td>\n",
       "      <td>0.687</td>\n",
       "      <td>52</td>\n",
       "      <td>1</td>\n",
       "    </tr>\n",
       "    <tr>\n",
       "      <th>645</th>\n",
       "      <td>2</td>\n",
       "      <td>157.0</td>\n",
       "      <td>74.0</td>\n",
       "      <td>35.0</td>\n",
       "      <td>440.0</td>\n",
       "      <td>39.4</td>\n",
       "      <td>0.134</td>\n",
       "      <td>30</td>\n",
       "      <td>0</td>\n",
       "    </tr>\n",
       "    <tr>\n",
       "      <th>655</th>\n",
       "      <td>2</td>\n",
       "      <td>155.0</td>\n",
       "      <td>52.0</td>\n",
       "      <td>27.0</td>\n",
       "      <td>540.0</td>\n",
       "      <td>38.7</td>\n",
       "      <td>0.240</td>\n",
       "      <td>25</td>\n",
       "      <td>1</td>\n",
       "    </tr>\n",
       "    <tr>\n",
       "      <th>695</th>\n",
       "      <td>7</td>\n",
       "      <td>142.0</td>\n",
       "      <td>90.0</td>\n",
       "      <td>24.0</td>\n",
       "      <td>480.0</td>\n",
       "      <td>30.4</td>\n",
       "      <td>0.128</td>\n",
       "      <td>43</td>\n",
       "      <td>1</td>\n",
       "    </tr>\n",
       "    <tr>\n",
       "      <th>753</th>\n",
       "      <td>0</td>\n",
       "      <td>181.0</td>\n",
       "      <td>88.0</td>\n",
       "      <td>44.0</td>\n",
       "      <td>510.0</td>\n",
       "      <td>43.3</td>\n",
       "      <td>0.222</td>\n",
       "      <td>26</td>\n",
       "      <td>1</td>\n",
       "    </tr>\n",
       "  </tbody>\n",
       "</table>\n",
       "</div>"
      ],
      "text/plain": [
       "     Pregnancies  Glucose  BloodPressure  SkinThickness  Insulin   BMI  \\\n",
       "8              2    197.0           70.0           45.0    543.0  30.5   \n",
       "13             1    189.0           60.0           23.0    846.0  30.1   \n",
       "111            8    155.0           62.0           26.0    495.0  34.0   \n",
       "153            1    153.0           82.0           42.0    485.0  40.6   \n",
       "186            8    181.0           68.0           36.0    495.0  30.1   \n",
       "220            0    177.0           60.0           29.0    478.0  34.6   \n",
       "228            4    197.0           70.0           39.0    744.0  36.7   \n",
       "247            0    165.0           90.0           33.0    680.0  52.3   \n",
       "286            5    155.0           84.0           44.0    545.0  38.7   \n",
       "370            3    173.0           82.0           48.0    465.0  38.4   \n",
       "392            1    131.0           64.0           14.0    415.0  23.7   \n",
       "409            1    172.0           68.0           49.0    579.0  42.4   \n",
       "415            3    173.0           84.0           33.0    474.0  35.7   \n",
       "486            1    139.0           62.0           41.0    480.0  40.7   \n",
       "584            8    124.0           76.0           24.0    600.0  28.7   \n",
       "645            2    157.0           74.0           35.0    440.0  39.4   \n",
       "655            2    155.0           52.0           27.0    540.0  38.7   \n",
       "695            7    142.0           90.0           24.0    480.0  30.4   \n",
       "753            0    181.0           88.0           44.0    510.0  43.3   \n",
       "\n",
       "     DiabetesPedigreeFunction  Age  Outcome  \n",
       "8                       0.158   53        1  \n",
       "13                      0.398   59        1  \n",
       "111                     0.543   46        1  \n",
       "153                     0.687   23        0  \n",
       "186                     0.615   60        1  \n",
       "220                     1.072   21        1  \n",
       "228                     2.329   31        0  \n",
       "247                     0.427   23        0  \n",
       "286                     0.619   34        0  \n",
       "370                     2.137   25        1  \n",
       "392                     0.389   21        0  \n",
       "409                     0.702   28        1  \n",
       "415                     0.258   22        1  \n",
       "486                     0.536   21        0  \n",
       "584                     0.687   52        1  \n",
       "645                     0.134   30        0  \n",
       "655                     0.240   25        1  \n",
       "695                     0.128   43        1  \n",
       "753                     0.222   26        1  "
      ]
     },
     "execution_count": 43,
     "metadata": {},
     "output_type": "execute_result"
    }
   ],
   "source": [
    "df.loc[df['Insulin'] > upper_lim]"
   ]
  },
  {
   "cell_type": "code",
   "execution_count": 44,
   "id": "e9cf1a49",
   "metadata": {},
   "outputs": [],
   "source": [
    "df.loc[df['Insulin'] > upper_lim, 'Insulin'] = np.mean(df['Insulin'])"
   ]
  },
  {
   "cell_type": "code",
   "execution_count": 45,
   "id": "e7201deb",
   "metadata": {},
   "outputs": [
    {
     "data": {
      "text/plain": [
       "<Axes: xlabel='Insulin'>"
      ]
     },
     "execution_count": 45,
     "metadata": {},
     "output_type": "execute_result"
    },
    {
     "data": {
      "image/png": "[encoded data removed]",
      "text/plain": [
       "<Figure size 640x480 with 1 Axes>"
      ]
     },
     "metadata": {},
     "output_type": "display_data"
    }
   ],
   "source": [
    "sns.boxplot(data= df, x= 'Insulin')"
   ]
  },
  {
   "cell_type": "code",
   "execution_count": 46,
   "id": "eda6e5ee",
   "metadata": {},
   "outputs": [
    {
     "data": {
      "text/html": [
       "<div>\n",
       "<style scoped>\n",
       "    .dataframe tbody tr th:only-of-type {\n",
       "        vertical-align: middle;\n",
       "    }\n",
       "\n",
       "    .dataframe tbody tr th {\n",
       "        vertical-align: top;\n",
       "    }\n",
       "\n",
       "    .dataframe thead th {\n",
       "        text-align: right;\n",
       "    }\n",
       "</style>\n",
       "<table border=\"1\" class=\"dataframe\">\n",
       "  <thead>\n",
       "    <tr style=\"text-align: right;\">\n",
       "      <th></th>\n",
       "      <th>Pregnancies</th>\n",
       "      <th>Glucose</th>\n",
       "      <th>BloodPressure</th>\n",
       "      <th>SkinThickness</th>\n",
       "      <th>Insulin</th>\n",
       "      <th>BMI</th>\n",
       "      <th>DiabetesPedigreeFunction</th>\n",
       "      <th>Age</th>\n",
       "      <th>Outcome</th>\n",
       "    </tr>\n",
       "  </thead>\n",
       "  <tbody>\n",
       "  </tbody>\n",
       "</table>\n",
       "</div>"
      ],
      "text/plain": [
       "Empty DataFrame\n",
       "Columns: [Pregnancies, Glucose, BloodPressure, SkinThickness, Insulin, BMI, DiabetesPedigreeFunction, Age, Outcome]\n",
       "Index: []"
      ]
     },
     "execution_count": 46,
     "metadata": {},
     "output_type": "execute_result"
    }
   ],
   "source": [
    "df.loc[df['Insulin'] > upper_lim]"
   ]
  },
  {
   "cell_type": "code",
   "execution_count": 47,
   "id": "dc6bb81e",
   "metadata": {},
   "outputs": [
    {
     "name": "stdout",
     "output_type": "stream",
     "text": [
      "lower limit is 11.824812048409168\n",
      "upper limit is 53.07701086825749\n"
     ]
    }
   ],
   "source": [
    "# BMI\n",
    "# normal distribution\n",
    "\n",
    "mean= np.mean(df['BMI'])\n",
    "std= df.BMI.std()\n",
    "lower_lim = mean - 3*std\n",
    "upper_lim = mean + 3*std\n",
    "print('lower limit is', lower_lim)\n",
    "print('upper limit is', upper_lim)\n"
   ]
  },
  {
   "cell_type": "code",
   "execution_count": 48,
   "id": "b64ebaab",
   "metadata": {},
   "outputs": [
    {
     "data": {
      "text/html": [
       "<div>\n",
       "<style scoped>\n",
       "    .dataframe tbody tr th:only-of-type {\n",
       "        vertical-align: middle;\n",
       "    }\n",
       "\n",
       "    .dataframe tbody tr th {\n",
       "        vertical-align: top;\n",
       "    }\n",
       "\n",
       "    .dataframe thead th {\n",
       "        text-align: right;\n",
       "    }\n",
       "</style>\n",
       "<table border=\"1\" class=\"dataframe\">\n",
       "  <thead>\n",
       "    <tr style=\"text-align: right;\">\n",
       "      <th></th>\n",
       "      <th>Pregnancies</th>\n",
       "      <th>Glucose</th>\n",
       "      <th>BloodPressure</th>\n",
       "      <th>SkinThickness</th>\n",
       "      <th>Insulin</th>\n",
       "      <th>BMI</th>\n",
       "      <th>DiabetesPedigreeFunction</th>\n",
       "      <th>Age</th>\n",
       "      <th>Outcome</th>\n",
       "    </tr>\n",
       "  </thead>\n",
       "  <tbody>\n",
       "  </tbody>\n",
       "</table>\n",
       "</div>"
      ],
      "text/plain": [
       "Empty DataFrame\n",
       "Columns: [Pregnancies, Glucose, BloodPressure, SkinThickness, Insulin, BMI, DiabetesPedigreeFunction, Age, Outcome]\n",
       "Index: []"
      ]
     },
     "execution_count": 48,
     "metadata": {},
     "output_type": "execute_result"
    }
   ],
   "source": [
    "df.loc[df['BMI'] < lower_lim]"
   ]
  },
  {
   "cell_type": "code",
   "execution_count": 49,
   "id": "da9005da",
   "metadata": {},
   "outputs": [
    {
     "data": {
      "text/html": [
       "<div>\n",
       "<style scoped>\n",
       "    .dataframe tbody tr th:only-of-type {\n",
       "        vertical-align: middle;\n",
       "    }\n",
       "\n",
       "    .dataframe tbody tr th {\n",
       "        vertical-align: top;\n",
       "    }\n",
       "\n",
       "    .dataframe thead th {\n",
       "        text-align: right;\n",
       "    }\n",
       "</style>\n",
       "<table border=\"1\" class=\"dataframe\">\n",
       "  <thead>\n",
       "    <tr style=\"text-align: right;\">\n",
       "      <th></th>\n",
       "      <th>Pregnancies</th>\n",
       "      <th>Glucose</th>\n",
       "      <th>BloodPressure</th>\n",
       "      <th>SkinThickness</th>\n",
       "      <th>Insulin</th>\n",
       "      <th>BMI</th>\n",
       "      <th>DiabetesPedigreeFunction</th>\n",
       "      <th>Age</th>\n",
       "      <th>Outcome</th>\n",
       "    </tr>\n",
       "  </thead>\n",
       "  <tbody>\n",
       "    <tr>\n",
       "      <th>120</th>\n",
       "      <td>0</td>\n",
       "      <td>162.0</td>\n",
       "      <td>76.000000</td>\n",
       "      <td>29.108073</td>\n",
       "      <td>100.0</td>\n",
       "      <td>53.2</td>\n",
       "      <td>0.759</td>\n",
       "      <td>25</td>\n",
       "      <td>1</td>\n",
       "    </tr>\n",
       "    <tr>\n",
       "      <th>125</th>\n",
       "      <td>1</td>\n",
       "      <td>88.0</td>\n",
       "      <td>72.386719</td>\n",
       "      <td>42.000000</td>\n",
       "      <td>99.0</td>\n",
       "      <td>55.0</td>\n",
       "      <td>0.496</td>\n",
       "      <td>26</td>\n",
       "      <td>1</td>\n",
       "    </tr>\n",
       "    <tr>\n",
       "      <th>177</th>\n",
       "      <td>0</td>\n",
       "      <td>129.0</td>\n",
       "      <td>72.560104</td>\n",
       "      <td>46.000000</td>\n",
       "      <td>130.0</td>\n",
       "      <td>67.1</td>\n",
       "      <td>0.319</td>\n",
       "      <td>26</td>\n",
       "      <td>1</td>\n",
       "    </tr>\n",
       "    <tr>\n",
       "      <th>445</th>\n",
       "      <td>0</td>\n",
       "      <td>180.0</td>\n",
       "      <td>78.000000</td>\n",
       "      <td>29.108073</td>\n",
       "      <td>14.0</td>\n",
       "      <td>59.4</td>\n",
       "      <td>2.420</td>\n",
       "      <td>25</td>\n",
       "      <td>1</td>\n",
       "    </tr>\n",
       "    <tr>\n",
       "      <th>673</th>\n",
       "      <td>3</td>\n",
       "      <td>123.0</td>\n",
       "      <td>100.000000</td>\n",
       "      <td>35.000000</td>\n",
       "      <td>240.0</td>\n",
       "      <td>57.3</td>\n",
       "      <td>0.880</td>\n",
       "      <td>22</td>\n",
       "      <td>0</td>\n",
       "    </tr>\n",
       "  </tbody>\n",
       "</table>\n",
       "</div>"
      ],
      "text/plain": [
       "     Pregnancies  Glucose  BloodPressure  SkinThickness  Insulin   BMI  \\\n",
       "120            0    162.0      76.000000      29.108073    100.0  53.2   \n",
       "125            1     88.0      72.386719      42.000000     99.0  55.0   \n",
       "177            0    129.0      72.560104      46.000000    130.0  67.1   \n",
       "445            0    180.0      78.000000      29.108073     14.0  59.4   \n",
       "673            3    123.0     100.000000      35.000000    240.0  57.3   \n",
       "\n",
       "     DiabetesPedigreeFunction  Age  Outcome  \n",
       "120                     0.759   25        1  \n",
       "125                     0.496   26        1  \n",
       "177                     0.319   26        1  \n",
       "445                     2.420   25        1  \n",
       "673                     0.880   22        0  "
      ]
     },
     "execution_count": 49,
     "metadata": {},
     "output_type": "execute_result"
    }
   ],
   "source": [
    "df.loc[df['BMI'] > upper_lim]"
   ]
  },
  {
   "cell_type": "code",
   "execution_count": 50,
   "id": "e07d7b4b",
   "metadata": {},
   "outputs": [],
   "source": [
    "df.loc[df['BMI'] > upper_lim, 'BMI'] = np.mean(df['BMI'])"
   ]
  },
  {
   "cell_type": "code",
   "execution_count": 51,
   "id": "5307551f",
   "metadata": {},
   "outputs": [
    {
     "data": {
      "text/plain": [
       "<Axes: xlabel='BMI'>"
      ]
     },
     "execution_count": 51,
     "metadata": {},
     "output_type": "execute_result"
    },
    {
     "data": {
      "image/png": "[encoded data removed]",
      "text/plain": [
       "<Figure size 640x480 with 1 Axes>"
      ]
     },
     "metadata": {},
     "output_type": "display_data"
    }
   ],
   "source": [
    "sns.boxplot(data=df, x= 'BMI')"
   ]
  },
  {
   "cell_type": "code",
   "execution_count": 53,
   "id": "b0f204bd",
   "metadata": {},
   "outputs": [
    {
     "name": "stdout",
     "output_type": "stream",
     "text": [
      "lower limit is -0.32999999999999996\n",
      "upper limit is 1.2\n"
     ]
    }
   ],
   "source": [
    "# DiabetesPedigreeFunction\n",
    "# skewed distribution\n",
    "\n",
    "q1=df['DiabetesPedigreeFunction'].quantile(0.25)\n",
    "q3=df['DiabetesPedigreeFunction'].quantile(0.75)\n",
    "iqr= q3 - q1\n",
    "lower_lim = q1 - 1.5*iqr\n",
    "upper_lim = q3 + 1.5*iqr\n",
    "print('lower limit is',lower_lim)\n",
    "print('upper limit is', upper_lim)\n"
   ]
  },
  {
   "cell_type": "code",
   "execution_count": 54,
   "id": "b6eae7ce",
   "metadata": {},
   "outputs": [
    {
     "data": {
      "text/html": [
       "<div>\n",
       "<style scoped>\n",
       "    .dataframe tbody tr th:only-of-type {\n",
       "        vertical-align: middle;\n",
       "    }\n",
       "\n",
       "    .dataframe tbody tr th {\n",
       "        vertical-align: top;\n",
       "    }\n",
       "\n",
       "    .dataframe thead th {\n",
       "        text-align: right;\n",
       "    }\n",
       "</style>\n",
       "<table border=\"1\" class=\"dataframe\">\n",
       "  <thead>\n",
       "    <tr style=\"text-align: right;\">\n",
       "      <th></th>\n",
       "      <th>Pregnancies</th>\n",
       "      <th>Glucose</th>\n",
       "      <th>BloodPressure</th>\n",
       "      <th>SkinThickness</th>\n",
       "      <th>Insulin</th>\n",
       "      <th>BMI</th>\n",
       "      <th>DiabetesPedigreeFunction</th>\n",
       "      <th>Age</th>\n",
       "      <th>Outcome</th>\n",
       "    </tr>\n",
       "  </thead>\n",
       "  <tbody>\n",
       "  </tbody>\n",
       "</table>\n",
       "</div>"
      ],
      "text/plain": [
       "Empty DataFrame\n",
       "Columns: [Pregnancies, Glucose, BloodPressure, SkinThickness, Insulin, BMI, DiabetesPedigreeFunction, Age, Outcome]\n",
       "Index: []"
      ]
     },
     "execution_count": 54,
     "metadata": {},
     "output_type": "execute_result"
    }
   ],
   "source": [
    "df.loc[df['DiabetesPedigreeFunction']< lower_lim]"
   ]
  },
  {
   "cell_type": "code",
   "execution_count": 55,
   "id": "24a2ad37",
   "metadata": {
    "collapsed": true
   },
   "outputs": [
    {
     "data": {
      "text/html": [
       "<div>\n",
       "<style scoped>\n",
       "    .dataframe tbody tr th:only-of-type {\n",
       "        vertical-align: middle;\n",
       "    }\n",
       "\n",
       "    .dataframe tbody tr th {\n",
       "        vertical-align: top;\n",
       "    }\n",
       "\n",
       "    .dataframe thead th {\n",
       "        text-align: right;\n",
       "    }\n",
       "</style>\n",
       "<table border=\"1\" class=\"dataframe\">\n",
       "  <thead>\n",
       "    <tr style=\"text-align: right;\">\n",
       "      <th></th>\n",
       "      <th>Pregnancies</th>\n",
       "      <th>Glucose</th>\n",
       "      <th>BloodPressure</th>\n",
       "      <th>SkinThickness</th>\n",
       "      <th>Insulin</th>\n",
       "      <th>BMI</th>\n",
       "      <th>DiabetesPedigreeFunction</th>\n",
       "      <th>Age</th>\n",
       "      <th>Outcome</th>\n",
       "    </tr>\n",
       "  </thead>\n",
       "  <tbody>\n",
       "    <tr>\n",
       "      <th>4</th>\n",
       "      <td>0</td>\n",
       "      <td>137.0</td>\n",
       "      <td>40.0</td>\n",
       "      <td>35.000000</td>\n",
       "      <td>168.00000</td>\n",
       "      <td>43.100000</td>\n",
       "      <td>2.288</td>\n",
       "      <td>33</td>\n",
       "      <td>1</td>\n",
       "    </tr>\n",
       "    <tr>\n",
       "      <th>12</th>\n",
       "      <td>10</td>\n",
       "      <td>139.0</td>\n",
       "      <td>80.0</td>\n",
       "      <td>29.000000</td>\n",
       "      <td>155.00000</td>\n",
       "      <td>27.100000</td>\n",
       "      <td>1.441</td>\n",
       "      <td>57</td>\n",
       "      <td>0</td>\n",
       "    </tr>\n",
       "    <tr>\n",
       "      <th>39</th>\n",
       "      <td>4</td>\n",
       "      <td>111.0</td>\n",
       "      <td>72.0</td>\n",
       "      <td>47.000000</td>\n",
       "      <td>207.00000</td>\n",
       "      <td>37.100000</td>\n",
       "      <td>1.390</td>\n",
       "      <td>56</td>\n",
       "      <td>1</td>\n",
       "    </tr>\n",
       "    <tr>\n",
       "      <th>45</th>\n",
       "      <td>0</td>\n",
       "      <td>180.0</td>\n",
       "      <td>66.0</td>\n",
       "      <td>39.000000</td>\n",
       "      <td>155.00000</td>\n",
       "      <td>42.000000</td>\n",
       "      <td>1.893</td>\n",
       "      <td>25</td>\n",
       "      <td>1</td>\n",
       "    </tr>\n",
       "    <tr>\n",
       "      <th>58</th>\n",
       "      <td>0</td>\n",
       "      <td>146.0</td>\n",
       "      <td>82.0</td>\n",
       "      <td>29.000000</td>\n",
       "      <td>155.00000</td>\n",
       "      <td>40.500000</td>\n",
       "      <td>1.781</td>\n",
       "      <td>44</td>\n",
       "      <td>0</td>\n",
       "    </tr>\n",
       "    <tr>\n",
       "      <th>100</th>\n",
       "      <td>1</td>\n",
       "      <td>163.0</td>\n",
       "      <td>72.0</td>\n",
       "      <td>29.000000</td>\n",
       "      <td>155.00000</td>\n",
       "      <td>39.000000</td>\n",
       "      <td>1.222</td>\n",
       "      <td>33</td>\n",
       "      <td>1</td>\n",
       "    </tr>\n",
       "    <tr>\n",
       "      <th>147</th>\n",
       "      <td>2</td>\n",
       "      <td>106.0</td>\n",
       "      <td>64.0</td>\n",
       "      <td>35.000000</td>\n",
       "      <td>119.00000</td>\n",
       "      <td>30.500000</td>\n",
       "      <td>1.400</td>\n",
       "      <td>34</td>\n",
       "      <td>0</td>\n",
       "    </tr>\n",
       "    <tr>\n",
       "      <th>187</th>\n",
       "      <td>1</td>\n",
       "      <td>128.0</td>\n",
       "      <td>98.0</td>\n",
       "      <td>41.000000</td>\n",
       "      <td>58.00000</td>\n",
       "      <td>32.000000</td>\n",
       "      <td>1.321</td>\n",
       "      <td>33</td>\n",
       "      <td>1</td>\n",
       "    </tr>\n",
       "    <tr>\n",
       "      <th>218</th>\n",
       "      <td>5</td>\n",
       "      <td>85.0</td>\n",
       "      <td>74.0</td>\n",
       "      <td>22.000000</td>\n",
       "      <td>155.00000</td>\n",
       "      <td>29.000000</td>\n",
       "      <td>1.224</td>\n",
       "      <td>32</td>\n",
       "      <td>1</td>\n",
       "    </tr>\n",
       "    <tr>\n",
       "      <th>228</th>\n",
       "      <td>4</td>\n",
       "      <td>197.0</td>\n",
       "      <td>70.0</td>\n",
       "      <td>39.000000</td>\n",
       "      <td>155.28125</td>\n",
       "      <td>36.700000</td>\n",
       "      <td>2.329</td>\n",
       "      <td>31</td>\n",
       "      <td>0</td>\n",
       "    </tr>\n",
       "    <tr>\n",
       "      <th>243</th>\n",
       "      <td>6</td>\n",
       "      <td>119.0</td>\n",
       "      <td>50.0</td>\n",
       "      <td>22.000000</td>\n",
       "      <td>176.00000</td>\n",
       "      <td>27.100000</td>\n",
       "      <td>1.318</td>\n",
       "      <td>33</td>\n",
       "      <td>1</td>\n",
       "    </tr>\n",
       "    <tr>\n",
       "      <th>245</th>\n",
       "      <td>9</td>\n",
       "      <td>184.0</td>\n",
       "      <td>85.0</td>\n",
       "      <td>15.000000</td>\n",
       "      <td>155.00000</td>\n",
       "      <td>30.000000</td>\n",
       "      <td>1.213</td>\n",
       "      <td>49</td>\n",
       "      <td>1</td>\n",
       "    </tr>\n",
       "    <tr>\n",
       "      <th>259</th>\n",
       "      <td>11</td>\n",
       "      <td>155.0</td>\n",
       "      <td>76.0</td>\n",
       "      <td>28.000000</td>\n",
       "      <td>150.00000</td>\n",
       "      <td>33.300000</td>\n",
       "      <td>1.353</td>\n",
       "      <td>51</td>\n",
       "      <td>1</td>\n",
       "    </tr>\n",
       "    <tr>\n",
       "      <th>292</th>\n",
       "      <td>2</td>\n",
       "      <td>128.0</td>\n",
       "      <td>78.0</td>\n",
       "      <td>37.000000</td>\n",
       "      <td>182.00000</td>\n",
       "      <td>43.300000</td>\n",
       "      <td>1.224</td>\n",
       "      <td>31</td>\n",
       "      <td>1</td>\n",
       "    </tr>\n",
       "    <tr>\n",
       "      <th>308</th>\n",
       "      <td>0</td>\n",
       "      <td>128.0</td>\n",
       "      <td>68.0</td>\n",
       "      <td>19.000000</td>\n",
       "      <td>180.00000</td>\n",
       "      <td>30.500000</td>\n",
       "      <td>1.391</td>\n",
       "      <td>25</td>\n",
       "      <td>1</td>\n",
       "    </tr>\n",
       "    <tr>\n",
       "      <th>330</th>\n",
       "      <td>8</td>\n",
       "      <td>118.0</td>\n",
       "      <td>72.0</td>\n",
       "      <td>19.000000</td>\n",
       "      <td>155.00000</td>\n",
       "      <td>23.100000</td>\n",
       "      <td>1.476</td>\n",
       "      <td>46</td>\n",
       "      <td>0</td>\n",
       "    </tr>\n",
       "    <tr>\n",
       "      <th>370</th>\n",
       "      <td>3</td>\n",
       "      <td>173.0</td>\n",
       "      <td>82.0</td>\n",
       "      <td>48.000000</td>\n",
       "      <td>155.28125</td>\n",
       "      <td>38.400000</td>\n",
       "      <td>2.137</td>\n",
       "      <td>25</td>\n",
       "      <td>1</td>\n",
       "    </tr>\n",
       "    <tr>\n",
       "      <th>371</th>\n",
       "      <td>0</td>\n",
       "      <td>118.0</td>\n",
       "      <td>64.0</td>\n",
       "      <td>23.000000</td>\n",
       "      <td>89.00000</td>\n",
       "      <td>32.000000</td>\n",
       "      <td>1.731</td>\n",
       "      <td>21</td>\n",
       "      <td>0</td>\n",
       "    </tr>\n",
       "    <tr>\n",
       "      <th>383</th>\n",
       "      <td>1</td>\n",
       "      <td>90.0</td>\n",
       "      <td>62.0</td>\n",
       "      <td>18.000000</td>\n",
       "      <td>59.00000</td>\n",
       "      <td>25.100000</td>\n",
       "      <td>1.268</td>\n",
       "      <td>25</td>\n",
       "      <td>0</td>\n",
       "    </tr>\n",
       "    <tr>\n",
       "      <th>395</th>\n",
       "      <td>2</td>\n",
       "      <td>127.0</td>\n",
       "      <td>58.0</td>\n",
       "      <td>24.000000</td>\n",
       "      <td>275.00000</td>\n",
       "      <td>27.700000</td>\n",
       "      <td>1.600</td>\n",
       "      <td>25</td>\n",
       "      <td>0</td>\n",
       "    </tr>\n",
       "    <tr>\n",
       "      <th>445</th>\n",
       "      <td>0</td>\n",
       "      <td>180.0</td>\n",
       "      <td>78.0</td>\n",
       "      <td>29.108073</td>\n",
       "      <td>14.00000</td>\n",
       "      <td>32.450911</td>\n",
       "      <td>2.420</td>\n",
       "      <td>25</td>\n",
       "      <td>1</td>\n",
       "    </tr>\n",
       "    <tr>\n",
       "      <th>534</th>\n",
       "      <td>1</td>\n",
       "      <td>77.0</td>\n",
       "      <td>56.0</td>\n",
       "      <td>30.000000</td>\n",
       "      <td>56.00000</td>\n",
       "      <td>33.300000</td>\n",
       "      <td>1.251</td>\n",
       "      <td>24</td>\n",
       "      <td>0</td>\n",
       "    </tr>\n",
       "    <tr>\n",
       "      <th>593</th>\n",
       "      <td>2</td>\n",
       "      <td>82.0</td>\n",
       "      <td>52.0</td>\n",
       "      <td>22.000000</td>\n",
       "      <td>115.00000</td>\n",
       "      <td>28.500000</td>\n",
       "      <td>1.699</td>\n",
       "      <td>25</td>\n",
       "      <td>0</td>\n",
       "    </tr>\n",
       "    <tr>\n",
       "      <th>606</th>\n",
       "      <td>1</td>\n",
       "      <td>181.0</td>\n",
       "      <td>78.0</td>\n",
       "      <td>42.000000</td>\n",
       "      <td>293.00000</td>\n",
       "      <td>40.000000</td>\n",
       "      <td>1.258</td>\n",
       "      <td>22</td>\n",
       "      <td>1</td>\n",
       "    </tr>\n",
       "    <tr>\n",
       "      <th>618</th>\n",
       "      <td>9</td>\n",
       "      <td>112.0</td>\n",
       "      <td>82.0</td>\n",
       "      <td>24.000000</td>\n",
       "      <td>155.00000</td>\n",
       "      <td>28.200000</td>\n",
       "      <td>1.282</td>\n",
       "      <td>50</td>\n",
       "      <td>1</td>\n",
       "    </tr>\n",
       "    <tr>\n",
       "      <th>621</th>\n",
       "      <td>2</td>\n",
       "      <td>92.0</td>\n",
       "      <td>76.0</td>\n",
       "      <td>20.000000</td>\n",
       "      <td>155.00000</td>\n",
       "      <td>24.200000</td>\n",
       "      <td>1.698</td>\n",
       "      <td>28</td>\n",
       "      <td>0</td>\n",
       "    </tr>\n",
       "    <tr>\n",
       "      <th>622</th>\n",
       "      <td>6</td>\n",
       "      <td>183.0</td>\n",
       "      <td>94.0</td>\n",
       "      <td>29.000000</td>\n",
       "      <td>155.00000</td>\n",
       "      <td>40.800000</td>\n",
       "      <td>1.461</td>\n",
       "      <td>45</td>\n",
       "      <td>0</td>\n",
       "    </tr>\n",
       "    <tr>\n",
       "      <th>659</th>\n",
       "      <td>3</td>\n",
       "      <td>80.0</td>\n",
       "      <td>82.0</td>\n",
       "      <td>31.000000</td>\n",
       "      <td>70.00000</td>\n",
       "      <td>34.200000</td>\n",
       "      <td>1.292</td>\n",
       "      <td>27</td>\n",
       "      <td>1</td>\n",
       "    </tr>\n",
       "    <tr>\n",
       "      <th>661</th>\n",
       "      <td>1</td>\n",
       "      <td>199.0</td>\n",
       "      <td>76.0</td>\n",
       "      <td>43.000000</td>\n",
       "      <td>155.00000</td>\n",
       "      <td>42.900000</td>\n",
       "      <td>1.394</td>\n",
       "      <td>22</td>\n",
       "      <td>1</td>\n",
       "    </tr>\n",
       "  </tbody>\n",
       "</table>\n",
       "</div>"
      ],
      "text/plain": [
       "     Pregnancies  Glucose  BloodPressure  SkinThickness    Insulin        BMI  \\\n",
       "4              0    137.0           40.0      35.000000  168.00000  43.100000   \n",
       "12            10    139.0           80.0      29.000000  155.00000  27.100000   \n",
       "39             4    111.0           72.0      47.000000  207.00000  37.100000   \n",
       "45             0    180.0           66.0      39.000000  155.00000  42.000000   \n",
       "58             0    146.0           82.0      29.000000  155.00000  40.500000   \n",
       "100            1    163.0           72.0      29.000000  155.00000  39.000000   \n",
       "147            2    106.0           64.0      35.000000  119.00000  30.500000   \n",
       "187            1    128.0           98.0      41.000000   58.00000  32.000000   \n",
       "218            5     85.0           74.0      22.000000  155.00000  29.000000   \n",
       "228            4    197.0           70.0      39.000000  155.28125  36.700000   \n",
       "243            6    119.0           50.0      22.000000  176.00000  27.100000   \n",
       "245            9    184.0           85.0      15.000000  155.00000  30.000000   \n",
       "259           11    155.0           76.0      28.000000  150.00000  33.300000   \n",
       "292            2    128.0           78.0      37.000000  182.00000  43.300000   \n",
       "308            0    128.0           68.0      19.000000  180.00000  30.500000   \n",
       "330            8    118.0           72.0      19.000000  155.00000  23.100000   \n",
       "370            3    173.0           82.0      48.000000  155.28125  38.400000   \n",
       "371            0    118.0           64.0      23.000000   89.00000  32.000000   \n",
       "383            1     90.0           62.0      18.000000   59.00000  25.100000   \n",
       "395            2    127.0           58.0      24.000000  275.00000  27.700000   \n",
       "445            0    180.0           78.0      29.108073   14.00000  32.450911   \n",
       "534            1     77.0           56.0      30.000000   56.00000  33.300000   \n",
       "593            2     82.0           52.0      22.000000  115.00000  28.500000   \n",
       "606            1    181.0           78.0      42.000000  293.00000  40.000000   \n",
       "618            9    112.0           82.0      24.000000  155.00000  28.200000   \n",
       "621            2     92.0           76.0      20.000000  155.00000  24.200000   \n",
       "622            6    183.0           94.0      29.000000  155.00000  40.800000   \n",
       "659            3     80.0           82.0      31.000000   70.00000  34.200000   \n",
       "661            1    199.0           76.0      43.000000  155.00000  42.900000   \n",
       "\n",
       "     DiabetesPedigreeFunction  Age  Outcome  \n",
       "4                       2.288   33        1  \n",
       "12                      1.441   57        0  \n",
       "39                      1.390   56        1  \n",
       "45                      1.893   25        1  \n",
       "58                      1.781   44        0  \n",
       "100                     1.222   33        1  \n",
       "147                     1.400   34        0  \n",
       "187                     1.321   33        1  \n",
       "218                     1.224   32        1  \n",
       "228                     2.329   31        0  \n",
       "243                     1.318   33        1  \n",
       "245                     1.213   49        1  \n",
       "259                     1.353   51        1  \n",
       "292                     1.224   31        1  \n",
       "308                     1.391   25        1  \n",
       "330                     1.476   46        0  \n",
       "370                     2.137   25        1  \n",
       "371                     1.731   21        0  \n",
       "383                     1.268   25        0  \n",
       "395                     1.600   25        0  \n",
       "445                     2.420   25        1  \n",
       "534                     1.251   24        0  \n",
       "593                     1.699   25        0  \n",
       "606                     1.258   22        1  \n",
       "618                     1.282   50        1  \n",
       "621                     1.698   28        0  \n",
       "622                     1.461   45        0  \n",
       "659                     1.292   27        1  \n",
       "661                     1.394   22        1  "
      ]
     },
     "execution_count": 55,
     "metadata": {},
     "output_type": "execute_result"
    }
   ],
   "source": [
    "df.loc[df['DiabetesPedigreeFunction']> upper_lim]"
   ]
  },
  {
   "cell_type": "code",
   "execution_count": 56,
   "id": "7afd8f67",
   "metadata": {},
   "outputs": [],
   "source": [
    "df.loc[df['DiabetesPedigreeFunction']> upper_lim, 'DiabetesPedigreeFunction'] = np.median(df['DiabetesPedigreeFunction'])"
   ]
  },
  {
   "cell_type": "code",
   "execution_count": 57,
   "id": "c5f47295",
   "metadata": {},
   "outputs": [
    {
     "data": {
      "text/html": [
       "<div>\n",
       "<style scoped>\n",
       "    .dataframe tbody tr th:only-of-type {\n",
       "        vertical-align: middle;\n",
       "    }\n",
       "\n",
       "    .dataframe tbody tr th {\n",
       "        vertical-align: top;\n",
       "    }\n",
       "\n",
       "    .dataframe thead th {\n",
       "        text-align: right;\n",
       "    }\n",
       "</style>\n",
       "<table border=\"1\" class=\"dataframe\">\n",
       "  <thead>\n",
       "    <tr style=\"text-align: right;\">\n",
       "      <th></th>\n",
       "      <th>Pregnancies</th>\n",
       "      <th>Glucose</th>\n",
       "      <th>BloodPressure</th>\n",
       "      <th>SkinThickness</th>\n",
       "      <th>Insulin</th>\n",
       "      <th>BMI</th>\n",
       "      <th>DiabetesPedigreeFunction</th>\n",
       "      <th>Age</th>\n",
       "      <th>Outcome</th>\n",
       "    </tr>\n",
       "  </thead>\n",
       "  <tbody>\n",
       "  </tbody>\n",
       "</table>\n",
       "</div>"
      ],
      "text/plain": [
       "Empty DataFrame\n",
       "Columns: [Pregnancies, Glucose, BloodPressure, SkinThickness, Insulin, BMI, DiabetesPedigreeFunction, Age, Outcome]\n",
       "Index: []"
      ]
     },
     "execution_count": 57,
     "metadata": {},
     "output_type": "execute_result"
    }
   ],
   "source": [
    "df.loc[df['DiabetesPedigreeFunction']> upper_lim]"
   ]
  },
  {
   "cell_type": "code",
   "execution_count": 58,
   "id": "1e5695b2",
   "metadata": {},
   "outputs": [
    {
     "name": "stdout",
     "output_type": "stream",
     "text": [
      "lower limit is -1.5\n",
      "upper limit is 66.5\n"
     ]
    }
   ],
   "source": [
    "# Age\n",
    "# skewed distribution\n",
    "\n",
    "q1=df['Age'].quantile(0.25)\n",
    "q3=df['Age'].quantile(0.75)\n",
    "iqr= q3 - q1\n",
    "lower_lim = q1 - 1.5*iqr\n",
    "upper_lim = q3 + 1.5*iqr\n",
    "print('lower limit is',lower_lim)\n",
    "print('upper limit is', upper_lim)\n"
   ]
  },
  {
   "cell_type": "code",
   "execution_count": 59,
   "id": "141d031b",
   "metadata": {},
   "outputs": [
    {
     "data": {
      "text/html": [
       "<div>\n",
       "<style scoped>\n",
       "    .dataframe tbody tr th:only-of-type {\n",
       "        vertical-align: middle;\n",
       "    }\n",
       "\n",
       "    .dataframe tbody tr th {\n",
       "        vertical-align: top;\n",
       "    }\n",
       "\n",
       "    .dataframe thead th {\n",
       "        text-align: right;\n",
       "    }\n",
       "</style>\n",
       "<table border=\"1\" class=\"dataframe\">\n",
       "  <thead>\n",
       "    <tr style=\"text-align: right;\">\n",
       "      <th></th>\n",
       "      <th>Pregnancies</th>\n",
       "      <th>Glucose</th>\n",
       "      <th>BloodPressure</th>\n",
       "      <th>SkinThickness</th>\n",
       "      <th>Insulin</th>\n",
       "      <th>BMI</th>\n",
       "      <th>DiabetesPedigreeFunction</th>\n",
       "      <th>Age</th>\n",
       "      <th>Outcome</th>\n",
       "    </tr>\n",
       "  </thead>\n",
       "  <tbody>\n",
       "  </tbody>\n",
       "</table>\n",
       "</div>"
      ],
      "text/plain": [
       "Empty DataFrame\n",
       "Columns: [Pregnancies, Glucose, BloodPressure, SkinThickness, Insulin, BMI, DiabetesPedigreeFunction, Age, Outcome]\n",
       "Index: []"
      ]
     },
     "execution_count": 59,
     "metadata": {},
     "output_type": "execute_result"
    }
   ],
   "source": [
    "df.loc[df['Age']< lower_lim]"
   ]
  },
  {
   "cell_type": "code",
   "execution_count": 60,
   "id": "42cbbb46",
   "metadata": {},
   "outputs": [
    {
     "data": {
      "text/html": [
       "<div>\n",
       "<style scoped>\n",
       "    .dataframe tbody tr th:only-of-type {\n",
       "        vertical-align: middle;\n",
       "    }\n",
       "\n",
       "    .dataframe tbody tr th {\n",
       "        vertical-align: top;\n",
       "    }\n",
       "\n",
       "    .dataframe thead th {\n",
       "        text-align: right;\n",
       "    }\n",
       "</style>\n",
       "<table border=\"1\" class=\"dataframe\">\n",
       "  <thead>\n",
       "    <tr style=\"text-align: right;\">\n",
       "      <th></th>\n",
       "      <th>Pregnancies</th>\n",
       "      <th>Glucose</th>\n",
       "      <th>BloodPressure</th>\n",
       "      <th>SkinThickness</th>\n",
       "      <th>Insulin</th>\n",
       "      <th>BMI</th>\n",
       "      <th>DiabetesPedigreeFunction</th>\n",
       "      <th>Age</th>\n",
       "      <th>Outcome</th>\n",
       "    </tr>\n",
       "  </thead>\n",
       "  <tbody>\n",
       "    <tr>\n",
       "      <th>123</th>\n",
       "      <td>5</td>\n",
       "      <td>132.0</td>\n",
       "      <td>80.0</td>\n",
       "      <td>29.0</td>\n",
       "      <td>155.0</td>\n",
       "      <td>26.8</td>\n",
       "      <td>0.186</td>\n",
       "      <td>69</td>\n",
       "      <td>0</td>\n",
       "    </tr>\n",
       "    <tr>\n",
       "      <th>363</th>\n",
       "      <td>4</td>\n",
       "      <td>146.0</td>\n",
       "      <td>78.0</td>\n",
       "      <td>29.0</td>\n",
       "      <td>155.0</td>\n",
       "      <td>38.5</td>\n",
       "      <td>0.520</td>\n",
       "      <td>67</td>\n",
       "      <td>1</td>\n",
       "    </tr>\n",
       "    <tr>\n",
       "      <th>453</th>\n",
       "      <td>2</td>\n",
       "      <td>119.0</td>\n",
       "      <td>72.0</td>\n",
       "      <td>29.0</td>\n",
       "      <td>155.0</td>\n",
       "      <td>19.6</td>\n",
       "      <td>0.832</td>\n",
       "      <td>72</td>\n",
       "      <td>0</td>\n",
       "    </tr>\n",
       "    <tr>\n",
       "      <th>459</th>\n",
       "      <td>9</td>\n",
       "      <td>134.0</td>\n",
       "      <td>74.0</td>\n",
       "      <td>33.0</td>\n",
       "      <td>60.0</td>\n",
       "      <td>25.9</td>\n",
       "      <td>0.460</td>\n",
       "      <td>81</td>\n",
       "      <td>0</td>\n",
       "    </tr>\n",
       "    <tr>\n",
       "      <th>489</th>\n",
       "      <td>8</td>\n",
       "      <td>194.0</td>\n",
       "      <td>80.0</td>\n",
       "      <td>29.0</td>\n",
       "      <td>155.0</td>\n",
       "      <td>26.1</td>\n",
       "      <td>0.551</td>\n",
       "      <td>67</td>\n",
       "      <td>0</td>\n",
       "    </tr>\n",
       "    <tr>\n",
       "      <th>537</th>\n",
       "      <td>0</td>\n",
       "      <td>57.0</td>\n",
       "      <td>60.0</td>\n",
       "      <td>29.0</td>\n",
       "      <td>155.0</td>\n",
       "      <td>21.7</td>\n",
       "      <td>0.735</td>\n",
       "      <td>67</td>\n",
       "      <td>0</td>\n",
       "    </tr>\n",
       "    <tr>\n",
       "      <th>666</th>\n",
       "      <td>4</td>\n",
       "      <td>145.0</td>\n",
       "      <td>82.0</td>\n",
       "      <td>18.0</td>\n",
       "      <td>155.0</td>\n",
       "      <td>32.5</td>\n",
       "      <td>0.235</td>\n",
       "      <td>70</td>\n",
       "      <td>1</td>\n",
       "    </tr>\n",
       "    <tr>\n",
       "      <th>674</th>\n",
       "      <td>8</td>\n",
       "      <td>91.0</td>\n",
       "      <td>82.0</td>\n",
       "      <td>29.0</td>\n",
       "      <td>155.0</td>\n",
       "      <td>35.6</td>\n",
       "      <td>0.587</td>\n",
       "      <td>68</td>\n",
       "      <td>0</td>\n",
       "    </tr>\n",
       "    <tr>\n",
       "      <th>684</th>\n",
       "      <td>5</td>\n",
       "      <td>136.0</td>\n",
       "      <td>82.0</td>\n",
       "      <td>29.0</td>\n",
       "      <td>155.0</td>\n",
       "      <td>32.0</td>\n",
       "      <td>0.640</td>\n",
       "      <td>69</td>\n",
       "      <td>0</td>\n",
       "    </tr>\n",
       "  </tbody>\n",
       "</table>\n",
       "</div>"
      ],
      "text/plain": [
       "     Pregnancies  Glucose  BloodPressure  SkinThickness  Insulin   BMI  \\\n",
       "123            5    132.0           80.0           29.0    155.0  26.8   \n",
       "363            4    146.0           78.0           29.0    155.0  38.5   \n",
       "453            2    119.0           72.0           29.0    155.0  19.6   \n",
       "459            9    134.0           74.0           33.0     60.0  25.9   \n",
       "489            8    194.0           80.0           29.0    155.0  26.1   \n",
       "537            0     57.0           60.0           29.0    155.0  21.7   \n",
       "666            4    145.0           82.0           18.0    155.0  32.5   \n",
       "674            8     91.0           82.0           29.0    155.0  35.6   \n",
       "684            5    136.0           82.0           29.0    155.0  32.0   \n",
       "\n",
       "     DiabetesPedigreeFunction  Age  Outcome  \n",
       "123                     0.186   69        0  \n",
       "363                     0.520   67        1  \n",
       "453                     0.832   72        0  \n",
       "459                     0.460   81        0  \n",
       "489                     0.551   67        0  \n",
       "537                     0.735   67        0  \n",
       "666                     0.235   70        1  \n",
       "674                     0.587   68        0  \n",
       "684                     0.640   69        0  "
      ]
     },
     "execution_count": 60,
     "metadata": {},
     "output_type": "execute_result"
    }
   ],
   "source": [
    "df.loc[df['Age'] > upper_lim]"
   ]
  },
  {
   "cell_type": "code",
   "execution_count": 61,
   "id": "d10e8e3a",
   "metadata": {},
   "outputs": [],
   "source": [
    "df.loc[df['Age'] > upper_lim, 'Age'] = np.median(df['Age'])"
   ]
  },
  {
   "cell_type": "code",
   "execution_count": 62,
   "id": "f5dfd6cc",
   "metadata": {},
   "outputs": [
    {
     "data": {
      "text/html": [
       "<div>\n",
       "<style scoped>\n",
       "    .dataframe tbody tr th:only-of-type {\n",
       "        vertical-align: middle;\n",
       "    }\n",
       "\n",
       "    .dataframe tbody tr th {\n",
       "        vertical-align: top;\n",
       "    }\n",
       "\n",
       "    .dataframe thead th {\n",
       "        text-align: right;\n",
       "    }\n",
       "</style>\n",
       "<table border=\"1\" class=\"dataframe\">\n",
       "  <thead>\n",
       "    <tr style=\"text-align: right;\">\n",
       "      <th></th>\n",
       "      <th>Pregnancies</th>\n",
       "      <th>Glucose</th>\n",
       "      <th>BloodPressure</th>\n",
       "      <th>SkinThickness</th>\n",
       "      <th>Insulin</th>\n",
       "      <th>BMI</th>\n",
       "      <th>DiabetesPedigreeFunction</th>\n",
       "      <th>Age</th>\n",
       "      <th>Outcome</th>\n",
       "    </tr>\n",
       "  </thead>\n",
       "  <tbody>\n",
       "  </tbody>\n",
       "</table>\n",
       "</div>"
      ],
      "text/plain": [
       "Empty DataFrame\n",
       "Columns: [Pregnancies, Glucose, BloodPressure, SkinThickness, Insulin, BMI, DiabetesPedigreeFunction, Age, Outcome]\n",
       "Index: []"
      ]
     },
     "execution_count": 62,
     "metadata": {},
     "output_type": "execute_result"
    }
   ],
   "source": [
    "df.loc[df['Age'] > upper_lim]"
   ]
  },
  {
   "cell_type": "code",
   "execution_count": 63,
   "id": "b987ac20",
   "metadata": {},
   "outputs": [],
   "source": [
    "# scaling\n",
    "\n",
    "#only for continuous independent columns\n",
    "from sklearn.preprocessing import MinMaxScaler\n",
    "scaled_data= MinMaxScaler()\n",
    "df[['Glucose', 'BloodPressure', 'SkinThickness', 'Insulin',\n",
    "       'BMI', 'DiabetesPedigreeFunction', 'Age']]= scaled_data.fit_transform(df[['Glucose', 'BloodPressure', 'SkinThickness', 'Insulin',\n",
    "       'BMI', 'DiabetesPedigreeFunction', 'Age']])"
   ]
  },
  {
   "cell_type": "code",
   "execution_count": 64,
   "id": "d334580c",
   "metadata": {},
   "outputs": [
    {
     "data": {
      "text/html": [
       "<div>\n",
       "<style scoped>\n",
       "    .dataframe tbody tr th:only-of-type {\n",
       "        vertical-align: middle;\n",
       "    }\n",
       "\n",
       "    .dataframe tbody tr th {\n",
       "        vertical-align: top;\n",
       "    }\n",
       "\n",
       "    .dataframe thead th {\n",
       "        text-align: right;\n",
       "    }\n",
       "</style>\n",
       "<table border=\"1\" class=\"dataframe\">\n",
       "  <thead>\n",
       "    <tr style=\"text-align: right;\">\n",
       "      <th></th>\n",
       "      <th>Pregnancies</th>\n",
       "      <th>Glucose</th>\n",
       "      <th>BloodPressure</th>\n",
       "      <th>SkinThickness</th>\n",
       "      <th>Insulin</th>\n",
       "      <th>BMI</th>\n",
       "      <th>DiabetesPedigreeFunction</th>\n",
       "      <th>Age</th>\n",
       "      <th>Outcome</th>\n",
       "    </tr>\n",
       "  </thead>\n",
       "  <tbody>\n",
       "    <tr>\n",
       "      <th>0</th>\n",
       "      <td>6</td>\n",
       "      <td>0.670968</td>\n",
       "      <td>0.485714</td>\n",
       "      <td>0.595745</td>\n",
       "      <td>0.363402</td>\n",
       "      <td>0.443804</td>\n",
       "      <td>0.493261</td>\n",
       "      <td>0.644444</td>\n",
       "      <td>1</td>\n",
       "    </tr>\n",
       "    <tr>\n",
       "      <th>1</th>\n",
       "      <td>1</td>\n",
       "      <td>0.264516</td>\n",
       "      <td>0.400000</td>\n",
       "      <td>0.468085</td>\n",
       "      <td>0.363402</td>\n",
       "      <td>0.242075</td>\n",
       "      <td>0.245283</td>\n",
       "      <td>0.222222</td>\n",
       "      <td>0</td>\n",
       "    </tr>\n",
       "    <tr>\n",
       "      <th>2</th>\n",
       "      <td>8</td>\n",
       "      <td>0.896774</td>\n",
       "      <td>0.371429</td>\n",
       "      <td>0.468085</td>\n",
       "      <td>0.363402</td>\n",
       "      <td>0.146974</td>\n",
       "      <td>0.533693</td>\n",
       "      <td>0.244444</td>\n",
       "      <td>1</td>\n",
       "    </tr>\n",
       "    <tr>\n",
       "      <th>3</th>\n",
       "      <td>1</td>\n",
       "      <td>0.290323</td>\n",
       "      <td>0.400000</td>\n",
       "      <td>0.340426</td>\n",
       "      <td>0.206186</td>\n",
       "      <td>0.285303</td>\n",
       "      <td>0.079964</td>\n",
       "      <td>0.000000</td>\n",
       "      <td>0</td>\n",
       "    </tr>\n",
       "    <tr>\n",
       "      <th>4</th>\n",
       "      <td>0</td>\n",
       "      <td>0.600000</td>\n",
       "      <td>0.028571</td>\n",
       "      <td>0.595745</td>\n",
       "      <td>0.396907</td>\n",
       "      <td>0.717579</td>\n",
       "      <td>0.264600</td>\n",
       "      <td>0.266667</td>\n",
       "      <td>1</td>\n",
       "    </tr>\n",
       "  </tbody>\n",
       "</table>\n",
       "</div>"
      ],
      "text/plain": [
       "   Pregnancies   Glucose  BloodPressure  SkinThickness   Insulin       BMI  \\\n",
       "0            6  0.670968       0.485714       0.595745  0.363402  0.443804   \n",
       "1            1  0.264516       0.400000       0.468085  0.363402  0.242075   \n",
       "2            8  0.896774       0.371429       0.468085  0.363402  0.146974   \n",
       "3            1  0.290323       0.400000       0.340426  0.206186  0.285303   \n",
       "4            0  0.600000       0.028571       0.595745  0.396907  0.717579   \n",
       "\n",
       "   DiabetesPedigreeFunction       Age  Outcome  \n",
       "0                  0.493261  0.644444        1  \n",
       "1                  0.245283  0.222222        0  \n",
       "2                  0.533693  0.244444        1  \n",
       "3                  0.079964  0.000000        0  \n",
       "4                  0.264600  0.266667        1  "
      ]
     },
     "execution_count": 64,
     "metadata": {},
     "output_type": "execute_result"
    }
   ],
   "source": [
    "df.head()"
   ]
  },
  {
   "cell_type": "markdown",
   "id": "dfb2250d",
   "metadata": {},
   "source": [
    "### feature selection "
   ]
  },
  {
   "cell_type": "markdown",
   "id": "aade03a5",
   "metadata": {},
   "source": [
    "### Model building: "
   ]
  },
  {
   "cell_type": "code",
   "execution_count": 65,
   "id": "e811e47c",
   "metadata": {},
   "outputs": [],
   "source": [
    "# Splitting the data\n",
    "\n",
    "X= df.iloc[:, :-1]\n",
    "y= df.Outcome"
   ]
  },
  {
   "cell_type": "code",
   "execution_count": 66,
   "id": "9d8a0071",
   "metadata": {},
   "outputs": [],
   "source": [
    "# train-test-split\n",
    "\n",
    "from sklearn.model_selection import train_test_split\n",
    "X_train, X_test, y_train, y_test = train_test_split(X, y, test_size= 0.2, random_state=3)\n",
    "### Random state- (ensures reproducibility) prevents the model from doing train test split every time we run the cell "
   ]
  },
  {
   "cell_type": "code",
   "execution_count": 67,
   "id": "12b50f2b",
   "metadata": {},
   "outputs": [
    {
     "data": {
      "text/plain": [
       "Outcome\n",
       "0    408\n",
       "1    206\n",
       "Name: count, dtype: int64"
      ]
     },
     "execution_count": 67,
     "metadata": {},
     "output_type": "execute_result"
    }
   ],
   "source": [
    "y_train.value_counts()"
   ]
  },
  {
   "cell_type": "code",
   "execution_count": 68,
   "id": "752c6e52",
   "metadata": {},
   "outputs": [],
   "source": [
    "# balancing the dataset (only training data)\n",
    "\n",
    "from imblearn.over_sampling import SMOTE\n",
    "smote = SMOTE()\n",
    "\n",
    "X_train_sm, y_train_sm= smote.fit_resample(X_train, y_train)"
   ]
  },
  {
   "cell_type": "code",
   "execution_count": 69,
   "id": "53122f00",
   "metadata": {},
   "outputs": [
    {
     "name": "stdout",
     "output_type": "stream",
     "text": [
      "Counter({0: 408, 1: 206})\n",
      "Counter({1: 408, 0: 408})\n"
     ]
    }
   ],
   "source": [
    "from collections import Counter\n",
    "\n",
    "print(Counter(y_train))\n",
    "print(Counter(y_train_sm))"
   ]
  },
  {
   "cell_type": "code",
   "execution_count": null,
   "id": "49fb188c",
   "metadata": {},
   "outputs": [],
   "source": [
    "# K value is chosen either by cross validation techniques like grid search \n",
    "# or other model evaluation metrics can be used to check and do trial and error\n",
    "# or common method of square root of n method where n is the total no of data points"
   ]
  },
  {
   "cell_type": "code",
   "execution_count": 70,
   "id": "83281b80",
   "metadata": {},
   "outputs": [
    {
     "data": {
      "text/html": [
       "<style>#sk-container-id-1 {color: black;}#sk-container-id-1 pre{padding: 0;}#sk-container-id-1 div.sk-toggleable {background-color: white;}#sk-container-id-1 label.sk-toggleable__label {cursor: pointer;display: block;width: 100%;margin-bottom: 0;padding: 0.3em;box-sizing: border-box;text-align: center;}#sk-container-id-1 label.sk-toggleable__label-arrow:before {content: \"▸\";float: left;margin-right: 0.25em;color: #696969;}#sk-container-id-1 label.sk-toggleable__label-arrow:hover:before {color: black;}#sk-container-id-1 div.sk-estimator:hover label.sk-toggleable__label-arrow:before {color: black;}#sk-container-id-1 div.sk-toggleable__content {max-height: 0;max-width: 0;overflow: hidden;text-align: left;background-color: #f0f8ff;}#sk-container-id-1 div.sk-toggleable__content pre {margin: 0.2em;color: black;border-radius: 0.25em;background-color: #f0f8ff;}#sk-container-id-1 input.sk-toggleable__control:checked~div.sk-toggleable__content {max-height: 200px;max-width: 100%;overflow: auto;}#sk-container-id-1 input.sk-toggleable__control:checked~label.sk-toggleable__label-arrow:before {content: \"▾\";}#sk-container-id-1 div.sk-estimator input.sk-toggleable__control:checked~label.sk-toggleable__label {background-color: #d4ebff;}#sk-container-id-1 div.sk-label input.sk-toggleable__control:checked~label.sk-toggleable__label {background-color: #d4ebff;}#sk-container-id-1 input.sk-hidden--visually {border: 0;clip: rect(1px 1px 1px 1px);clip: rect(1px, 1px, 1px, 1px);height: 1px;margin: -1px;overflow: hidden;padding: 0;position: absolute;width: 1px;}#sk-container-id-1 div.sk-estimator {font-family: monospace;background-color: #f0f8ff;border: 1px dotted black;border-radius: 0.25em;box-sizing: border-box;margin-bottom: 0.5em;}#sk-container-id-1 div.sk-estimator:hover {background-color: #d4ebff;}#sk-container-id-1 div.sk-parallel-item::after {content: \"\";width: 100%;border-bottom: 1px solid gray;flex-grow: 1;}#sk-container-id-1 div.sk-label:hover label.sk-toggleable__label {background-color: #d4ebff;}#sk-container-id-1 div.sk-serial::before {content: \"\";position: absolute;border-left: 1px solid gray;box-sizing: border-box;top: 0;bottom: 0;left: 50%;z-index: 0;}#sk-container-id-1 div.sk-serial {display: flex;flex-direction: column;align-items: center;background-color: white;padding-right: 0.2em;padding-left: 0.2em;position: relative;}#sk-container-id-1 div.sk-item {position: relative;z-index: 1;}#sk-container-id-1 div.sk-parallel {display: flex;align-items: stretch;justify-content: center;background-color: white;position: relative;}#sk-container-id-1 div.sk-item::before, #sk-container-id-1 div.sk-parallel-item::before {content: \"\";position: absolute;border-left: 1px solid gray;box-sizing: border-box;top: 0;bottom: 0;left: 50%;z-index: -1;}#sk-container-id-1 div.sk-parallel-item {display: flex;flex-direction: column;z-index: 1;position: relative;background-color: white;}#sk-container-id-1 div.sk-parallel-item:first-child::after {align-self: flex-end;width: 50%;}#sk-container-id-1 div.sk-parallel-item:last-child::after {align-self: flex-start;width: 50%;}#sk-container-id-1 div.sk-parallel-item:only-child::after {width: 0;}#sk-container-id-1 div.sk-dashed-wrapped {border: 1px dashed gray;margin: 0 0.4em 0.5em 0.4em;box-sizing: border-box;padding-bottom: 0.4em;background-color: white;}#sk-container-id-1 div.sk-label label {font-family: monospace;font-weight: bold;display: inline-block;line-height: 1.2em;}#sk-container-id-1 div.sk-label-container {text-align: center;}#sk-container-id-1 div.sk-container {/* jupyter's `normalize.less` sets `[hidden] { display: none; }` but bootstrap.min.css set `[hidden] { display: none !important; }` so we also need the `!important` here to be able to override the default hidden behavior on the sphinx rendered scikit-learn.org. See: https://github.com/scikit-learn/scikit-learn/issues/21755 */display: inline-block !important;position: relative;}#sk-container-id-1 div.sk-text-repr-fallback {display: none;}</style><div id=\"sk-container-id-1\" class=\"sk-top-container\"><div class=\"sk-text-repr-fallback\"><pre>KNeighborsClassifier()</pre><b>In a Jupyter environment, please rerun this cell to show the HTML representation or trust the notebook. <br />On GitHub, the HTML representation is unable to render, please try loading this page with nbviewer.org.</b></div><div class=\"sk-container\" hidden><div class=\"sk-item\"><div class=\"sk-estimator sk-toggleable\"><input class=\"sk-toggleable__control sk-hidden--visually\" id=\"sk-estimator-id-1\" type=\"checkbox\" checked><label for=\"sk-estimator-id-1\" class=\"sk-toggleable__label sk-toggleable__label-arrow\">KNeighborsClassifier</label><div class=\"sk-toggleable__content\"><pre>KNeighborsClassifier()</pre></div></div></div></div></div>"
      ],
      "text/plain": [
       "KNeighborsClassifier()"
      ]
     },
     "execution_count": 70,
     "metadata": {},
     "output_type": "execute_result"
    }
   ],
   "source": [
    "# Default knn model\n",
    "\n",
    "from sklearn.neighbors import KNeighborsClassifier\n",
    "knn1= KNeighborsClassifier()\n",
    "knn1.fit(X_train_sm, y_train_sm)"
   ]
  },
  {
   "cell_type": "code",
   "execution_count": 71,
   "id": "3b436cef",
   "metadata": {},
   "outputs": [],
   "source": [
    "y_hat1= knn1.predict(X_test)"
   ]
  },
  {
   "cell_type": "code",
   "execution_count": 72,
   "id": "1c9eeb7f",
   "metadata": {},
   "outputs": [
    {
     "data": {
      "text/plain": [
       "0.6883116883116883"
      ]
     },
     "execution_count": 72,
     "metadata": {},
     "output_type": "execute_result"
    }
   ],
   "source": [
    "from sklearn.metrics import accuracy_score, confusion_matrix, classification_report, f1_score\n",
    "accuracy_score(y_test, y_hat1)"
   ]
  },
  {
   "cell_type": "code",
   "execution_count": 73,
   "id": "39c2ee9f",
   "metadata": {},
   "outputs": [
    {
     "data": {
      "text/plain": [
       "array([[63, 29],\n",
       "       [19, 43]], dtype=int64)"
      ]
     },
     "execution_count": 73,
     "metadata": {},
     "output_type": "execute_result"
    }
   ],
   "source": [
    "confusion_matrix(y_test, y_hat1)"
   ]
  },
  {
   "cell_type": "code",
   "execution_count": 74,
   "id": "b793ea87",
   "metadata": {},
   "outputs": [
    {
     "name": "stdout",
     "output_type": "stream",
     "text": [
      "              precision    recall  f1-score   support\n",
      "\n",
      "           0       0.77      0.68      0.72        92\n",
      "           1       0.60      0.69      0.64        62\n",
      "\n",
      "    accuracy                           0.69       154\n",
      "   macro avg       0.68      0.69      0.68       154\n",
      "weighted avg       0.70      0.69      0.69       154\n",
      "\n"
     ]
    }
   ],
   "source": [
    "print(classification_report(y_test, y_hat1))"
   ]
  },
  {
   "cell_type": "code",
   "execution_count": null,
   "id": "853e0f6c",
   "metadata": {},
   "outputs": [],
   "source": [
    "# by default knn model with n=5, the accuracy score is 0.68"
   ]
  },
  {
   "cell_type": "code",
   "execution_count": 78,
   "id": "f1ef3cf8",
   "metadata": {},
   "outputs": [
    {
     "data": {
      "text/plain": [
       "(816, 8)"
      ]
     },
     "execution_count": 78,
     "metadata": {},
     "output_type": "execute_result"
    }
   ],
   "source": [
    "X_train_sm.shape\n"
   ]
  },
  {
   "cell_type": "code",
   "execution_count": 79,
   "id": "63348f7d",
   "metadata": {},
   "outputs": [
    {
     "data": {
      "text/plain": [
       "(816,)"
      ]
     },
     "execution_count": 79,
     "metadata": {},
     "output_type": "execute_result"
    }
   ],
   "source": [
    "y_train_sm.shape\n"
   ]
  },
  {
   "cell_type": "code",
   "execution_count": 80,
   "id": "85ab9c49",
   "metadata": {},
   "outputs": [
    {
     "data": {
      "text/plain": [
       "(154, 8)"
      ]
     },
     "execution_count": 80,
     "metadata": {},
     "output_type": "execute_result"
    }
   ],
   "source": [
    "X_test.shape\n"
   ]
  },
  {
   "cell_type": "code",
   "execution_count": 81,
   "id": "164539ed",
   "metadata": {},
   "outputs": [
    {
     "data": {
      "text/plain": [
       "(154,)"
      ]
     },
     "execution_count": 81,
     "metadata": {},
     "output_type": "execute_result"
    }
   ],
   "source": [
    "y_test.shape"
   ]
  },
  {
   "cell_type": "code",
   "execution_count": null,
   "id": "c524a68d",
   "metadata": {},
   "outputs": [],
   "source": []
  },
  {
   "cell_type": "code",
   "execution_count": 82,
   "id": "7bfd30cd",
   "metadata": {},
   "outputs": [
    {
     "data": {
      "text/plain": [
       "24.779023386727733"
      ]
     },
     "execution_count": 82,
     "metadata": {},
     "output_type": "execute_result"
    }
   ],
   "source": [
    "# Trying model 2 with different k value\n",
    "\n",
    "# square root method= sqrt(n) where is the total no of data points in the training dataset\n",
    "# i.e., Xtrain\n",
    "\n",
    "import math\n",
    "math.sqrt(len(X_train)) # taking k value as odd number "
   ]
  },
  {
   "cell_type": "code",
   "execution_count": 78,
   "id": "591d3dfb",
   "metadata": {},
   "outputs": [
    {
     "data": {
      "text/plain": [
       "(768, 9)"
      ]
     },
     "execution_count": 78,
     "metadata": {},
     "output_type": "execute_result"
    }
   ],
   "source": [
    "df.shape"
   ]
  },
  {
   "cell_type": "code",
   "execution_count": 83,
   "id": "d8a6b3d3",
   "metadata": {},
   "outputs": [
    {
     "data": {
      "text/html": [
       "<style>#sk-container-id-2 {color: black;}#sk-container-id-2 pre{padding: 0;}#sk-container-id-2 div.sk-toggleable {background-color: white;}#sk-container-id-2 label.sk-toggleable__label {cursor: pointer;display: block;width: 100%;margin-bottom: 0;padding: 0.3em;box-sizing: border-box;text-align: center;}#sk-container-id-2 label.sk-toggleable__label-arrow:before {content: \"▸\";float: left;margin-right: 0.25em;color: #696969;}#sk-container-id-2 label.sk-toggleable__label-arrow:hover:before {color: black;}#sk-container-id-2 div.sk-estimator:hover label.sk-toggleable__label-arrow:before {color: black;}#sk-container-id-2 div.sk-toggleable__content {max-height: 0;max-width: 0;overflow: hidden;text-align: left;background-color: #f0f8ff;}#sk-container-id-2 div.sk-toggleable__content pre {margin: 0.2em;color: black;border-radius: 0.25em;background-color: #f0f8ff;}#sk-container-id-2 input.sk-toggleable__control:checked~div.sk-toggleable__content {max-height: 200px;max-width: 100%;overflow: auto;}#sk-container-id-2 input.sk-toggleable__control:checked~label.sk-toggleable__label-arrow:before {content: \"▾\";}#sk-container-id-2 div.sk-estimator input.sk-toggleable__control:checked~label.sk-toggleable__label {background-color: #d4ebff;}#sk-container-id-2 div.sk-label input.sk-toggleable__control:checked~label.sk-toggleable__label {background-color: #d4ebff;}#sk-container-id-2 input.sk-hidden--visually {border: 0;clip: rect(1px 1px 1px 1px);clip: rect(1px, 1px, 1px, 1px);height: 1px;margin: -1px;overflow: hidden;padding: 0;position: absolute;width: 1px;}#sk-container-id-2 div.sk-estimator {font-family: monospace;background-color: #f0f8ff;border: 1px dotted black;border-radius: 0.25em;box-sizing: border-box;margin-bottom: 0.5em;}#sk-container-id-2 div.sk-estimator:hover {background-color: #d4ebff;}#sk-container-id-2 div.sk-parallel-item::after {content: \"\";width: 100%;border-bottom: 1px solid gray;flex-grow: 1;}#sk-container-id-2 div.sk-label:hover label.sk-toggleable__label {background-color: #d4ebff;}#sk-container-id-2 div.sk-serial::before {content: \"\";position: absolute;border-left: 1px solid gray;box-sizing: border-box;top: 0;bottom: 0;left: 50%;z-index: 0;}#sk-container-id-2 div.sk-serial {display: flex;flex-direction: column;align-items: center;background-color: white;padding-right: 0.2em;padding-left: 0.2em;position: relative;}#sk-container-id-2 div.sk-item {position: relative;z-index: 1;}#sk-container-id-2 div.sk-parallel {display: flex;align-items: stretch;justify-content: center;background-color: white;position: relative;}#sk-container-id-2 div.sk-item::before, #sk-container-id-2 div.sk-parallel-item::before {content: \"\";position: absolute;border-left: 1px solid gray;box-sizing: border-box;top: 0;bottom: 0;left: 50%;z-index: -1;}#sk-container-id-2 div.sk-parallel-item {display: flex;flex-direction: column;z-index: 1;position: relative;background-color: white;}#sk-container-id-2 div.sk-parallel-item:first-child::after {align-self: flex-end;width: 50%;}#sk-container-id-2 div.sk-parallel-item:last-child::after {align-self: flex-start;width: 50%;}#sk-container-id-2 div.sk-parallel-item:only-child::after {width: 0;}#sk-container-id-2 div.sk-dashed-wrapped {border: 1px dashed gray;margin: 0 0.4em 0.5em 0.4em;box-sizing: border-box;padding-bottom: 0.4em;background-color: white;}#sk-container-id-2 div.sk-label label {font-family: monospace;font-weight: bold;display: inline-block;line-height: 1.2em;}#sk-container-id-2 div.sk-label-container {text-align: center;}#sk-container-id-2 div.sk-container {/* jupyter's `normalize.less` sets `[hidden] { display: none; }` but bootstrap.min.css set `[hidden] { display: none !important; }` so we also need the `!important` here to be able to override the default hidden behavior on the sphinx rendered scikit-learn.org. See: https://github.com/scikit-learn/scikit-learn/issues/21755 */display: inline-block !important;position: relative;}#sk-container-id-2 div.sk-text-repr-fallback {display: none;}</style><div id=\"sk-container-id-2\" class=\"sk-top-container\"><div class=\"sk-text-repr-fallback\"><pre>KNeighborsClassifier(metric=&#x27;euclidean&#x27;, n_jobs=-1, n_neighbors=24)</pre><b>In a Jupyter environment, please rerun this cell to show the HTML representation or trust the notebook. <br />On GitHub, the HTML representation is unable to render, please try loading this page with nbviewer.org.</b></div><div class=\"sk-container\" hidden><div class=\"sk-item\"><div class=\"sk-estimator sk-toggleable\"><input class=\"sk-toggleable__control sk-hidden--visually\" id=\"sk-estimator-id-2\" type=\"checkbox\" checked><label for=\"sk-estimator-id-2\" class=\"sk-toggleable__label sk-toggleable__label-arrow\">KNeighborsClassifier</label><div class=\"sk-toggleable__content\"><pre>KNeighborsClassifier(metric=&#x27;euclidean&#x27;, n_jobs=-1, n_neighbors=24)</pre></div></div></div></div></div>"
      ],
      "text/plain": [
       "KNeighborsClassifier(metric='euclidean', n_jobs=-1, n_neighbors=24)"
      ]
     },
     "execution_count": 83,
     "metadata": {},
     "output_type": "execute_result"
    }
   ],
   "source": [
    "knn2= KNeighborsClassifier(n_neighbors=24, p=2, metric= 'euclidean', n_jobs=-1) # p- power parametric for the distance metric, 'p=2' denotes equivalent to euclidean distance\n",
    "knn2.fit(X_train_sm, y_train_sm)"
   ]
  },
  {
   "cell_type": "code",
   "execution_count": 84,
   "id": "eea9bc27",
   "metadata": {},
   "outputs": [],
   "source": [
    "# prediction and evaluation\n",
    "y_hat2= knn2.predict(X_test)"
   ]
  },
  {
   "cell_type": "code",
   "execution_count": 85,
   "id": "b587dcb3",
   "metadata": {},
   "outputs": [
    {
     "data": {
      "text/plain": [
       "0.7207792207792207"
      ]
     },
     "execution_count": 85,
     "metadata": {},
     "output_type": "execute_result"
    }
   ],
   "source": [
    "accuracy_score(y_test, y_hat2)"
   ]
  },
  {
   "cell_type": "code",
   "execution_count": 86,
   "id": "af469860",
   "metadata": {},
   "outputs": [
    {
     "data": {
      "text/plain": [
       "array([[65, 27],\n",
       "       [16, 46]], dtype=int64)"
      ]
     },
     "execution_count": 86,
     "metadata": {},
     "output_type": "execute_result"
    }
   ],
   "source": [
    "confusion_matrix(y_test, y_hat2)"
   ]
  },
  {
   "cell_type": "code",
   "execution_count": 87,
   "id": "7316f64a",
   "metadata": {},
   "outputs": [
    {
     "data": {
      "text/plain": [
       "0.7463235294117647"
      ]
     },
     "execution_count": 87,
     "metadata": {},
     "output_type": "execute_result"
    }
   ],
   "source": [
    "# Training accuracy\n",
    "y_train_acc= knn2.predict(X_train_sm)\n",
    "accuracy_score(y_train_sm, y_train_acc)"
   ]
  },
  {
   "cell_type": "code",
   "execution_count": null,
   "id": "548e45ac",
   "metadata": {},
   "outputs": [],
   "source": [
    "# Insights:\n",
    "# After finding k value as square root method, (k=24), the accuracy score is 0.72"
   ]
  },
  {
   "cell_type": "raw",
   "id": "6939f5aa",
   "metadata": {},
   "source": [
    "weights:{'uniform', 'distance'}\n",
    "    algorithm={'auto', 'ball_tree', 'kd_tree', 'brute'}\n",
    "    leaf_size=30,\n",
    "    p=1,2\n",
    "    metric='minkowski',\n",
    "    metric_params=None,\n",
    "    n_jobs=-1,"
   ]
  },
  {
   "cell_type": "code",
   "execution_count": 96,
   "id": "01c6cd57",
   "metadata": {},
   "outputs": [
    {
     "name": "stdout",
     "output_type": "stream",
     "text": [
      "Best hyperparameters:  {'n_neighbors': 2, 'metric': 'manhattan'}\n"
     ]
    }
   ],
   "source": [
    "# Initialising model 3\n",
    "# paramerters tuning\n",
    "from sklearn.model_selection import RandomizedSearchCV\n",
    "\n",
    "param_grid= {'n_neighbors' : list(range(1,30)),\n",
    "            'metric':['euclidean', 'manhattan', 'minkowski']}\n",
    "knn3= KNeighborsClassifier()\n",
    "randomized= RandomizedSearchCV(knn3, param_grid, cv=5, scoring= 'accuracy')\n",
    "randomized.fit(X_train_sm, y_train_sm)\n",
    "\n",
    "best_params= randomized.best_params_\n",
    "print(f'Best hyperparameters: ', best_params)"
   ]
  },
  {
   "cell_type": "code",
   "execution_count": 97,
   "id": "30809daa",
   "metadata": {},
   "outputs": [
    {
     "data": {
      "text/html": [
       "<style>#sk-container-id-4 {color: black;}#sk-container-id-4 pre{padding: 0;}#sk-container-id-4 div.sk-toggleable {background-color: white;}#sk-container-id-4 label.sk-toggleable__label {cursor: pointer;display: block;width: 100%;margin-bottom: 0;padding: 0.3em;box-sizing: border-box;text-align: center;}#sk-container-id-4 label.sk-toggleable__label-arrow:before {content: \"▸\";float: left;margin-right: 0.25em;color: #696969;}#sk-container-id-4 label.sk-toggleable__label-arrow:hover:before {color: black;}#sk-container-id-4 div.sk-estimator:hover label.sk-toggleable__label-arrow:before {color: black;}#sk-container-id-4 div.sk-toggleable__content {max-height: 0;max-width: 0;overflow: hidden;text-align: left;background-color: #f0f8ff;}#sk-container-id-4 div.sk-toggleable__content pre {margin: 0.2em;color: black;border-radius: 0.25em;background-color: #f0f8ff;}#sk-container-id-4 input.sk-toggleable__control:checked~div.sk-toggleable__content {max-height: 200px;max-width: 100%;overflow: auto;}#sk-container-id-4 input.sk-toggleable__control:checked~label.sk-toggleable__label-arrow:before {content: \"▾\";}#sk-container-id-4 div.sk-estimator input.sk-toggleable__control:checked~label.sk-toggleable__label {background-color: #d4ebff;}#sk-container-id-4 div.sk-label input.sk-toggleable__control:checked~label.sk-toggleable__label {background-color: #d4ebff;}#sk-container-id-4 input.sk-hidden--visually {border: 0;clip: rect(1px 1px 1px 1px);clip: rect(1px, 1px, 1px, 1px);height: 1px;margin: -1px;overflow: hidden;padding: 0;position: absolute;width: 1px;}#sk-container-id-4 div.sk-estimator {font-family: monospace;background-color: #f0f8ff;border: 1px dotted black;border-radius: 0.25em;box-sizing: border-box;margin-bottom: 0.5em;}#sk-container-id-4 div.sk-estimator:hover {background-color: #d4ebff;}#sk-container-id-4 div.sk-parallel-item::after {content: \"\";width: 100%;border-bottom: 1px solid gray;flex-grow: 1;}#sk-container-id-4 div.sk-label:hover label.sk-toggleable__label {background-color: #d4ebff;}#sk-container-id-4 div.sk-serial::before {content: \"\";position: absolute;border-left: 1px solid gray;box-sizing: border-box;top: 0;bottom: 0;left: 50%;z-index: 0;}#sk-container-id-4 div.sk-serial {display: flex;flex-direction: column;align-items: center;background-color: white;padding-right: 0.2em;padding-left: 0.2em;position: relative;}#sk-container-id-4 div.sk-item {position: relative;z-index: 1;}#sk-container-id-4 div.sk-parallel {display: flex;align-items: stretch;justify-content: center;background-color: white;position: relative;}#sk-container-id-4 div.sk-item::before, #sk-container-id-4 div.sk-parallel-item::before {content: \"\";position: absolute;border-left: 1px solid gray;box-sizing: border-box;top: 0;bottom: 0;left: 50%;z-index: -1;}#sk-container-id-4 div.sk-parallel-item {display: flex;flex-direction: column;z-index: 1;position: relative;background-color: white;}#sk-container-id-4 div.sk-parallel-item:first-child::after {align-self: flex-end;width: 50%;}#sk-container-id-4 div.sk-parallel-item:last-child::after {align-self: flex-start;width: 50%;}#sk-container-id-4 div.sk-parallel-item:only-child::after {width: 0;}#sk-container-id-4 div.sk-dashed-wrapped {border: 1px dashed gray;margin: 0 0.4em 0.5em 0.4em;box-sizing: border-box;padding-bottom: 0.4em;background-color: white;}#sk-container-id-4 div.sk-label label {font-family: monospace;font-weight: bold;display: inline-block;line-height: 1.2em;}#sk-container-id-4 div.sk-label-container {text-align: center;}#sk-container-id-4 div.sk-container {/* jupyter's `normalize.less` sets `[hidden] { display: none; }` but bootstrap.min.css set `[hidden] { display: none !important; }` so we also need the `!important` here to be able to override the default hidden behavior on the sphinx rendered scikit-learn.org. See: https://github.com/scikit-learn/scikit-learn/issues/21755 */display: inline-block !important;position: relative;}#sk-container-id-4 div.sk-text-repr-fallback {display: none;}</style><div id=\"sk-container-id-4\" class=\"sk-top-container\"><div class=\"sk-text-repr-fallback\"><pre>KNeighborsClassifier(metric=&#x27;manhattan&#x27;, n_neighbors=2)</pre><b>In a Jupyter environment, please rerun this cell to show the HTML representation or trust the notebook. <br />On GitHub, the HTML representation is unable to render, please try loading this page with nbviewer.org.</b></div><div class=\"sk-container\" hidden><div class=\"sk-item\"><div class=\"sk-estimator sk-toggleable\"><input class=\"sk-toggleable__control sk-hidden--visually\" id=\"sk-estimator-id-4\" type=\"checkbox\" checked><label for=\"sk-estimator-id-4\" class=\"sk-toggleable__label sk-toggleable__label-arrow\">KNeighborsClassifier</label><div class=\"sk-toggleable__content\"><pre>KNeighborsClassifier(metric=&#x27;manhattan&#x27;, n_neighbors=2)</pre></div></div></div></div></div>"
      ],
      "text/plain": [
       "KNeighborsClassifier(metric='manhattan', n_neighbors=2)"
      ]
     },
     "execution_count": 97,
     "metadata": {},
     "output_type": "execute_result"
    }
   ],
   "source": [
    "knn4= KNeighborsClassifier(n_neighbors=2, metric='manhattan')\n",
    "knn4.fit(X_train_sm, y_train_sm)"
   ]
  },
  {
   "cell_type": "code",
   "execution_count": 98,
   "id": "9c56e984",
   "metadata": {},
   "outputs": [
    {
     "data": {
      "text/plain": [
       "0.7337662337662337"
      ]
     },
     "execution_count": 98,
     "metadata": {},
     "output_type": "execute_result"
    }
   ],
   "source": [
    "#prediction and evaluation\n",
    "\n",
    "y_hat3= knn4.predict(X_test)\n",
    "accuracy_score(y_test, y_hat3)"
   ]
  },
  {
   "cell_type": "code",
   "execution_count": 101,
   "id": "09f2941e",
   "metadata": {},
   "outputs": [
    {
     "data": {
      "text/plain": [
       "array([[81, 11],\n",
       "       [30, 32]], dtype=int64)"
      ]
     },
     "execution_count": 101,
     "metadata": {},
     "output_type": "execute_result"
    }
   ],
   "source": [
    "confusion_matrix(y_test, y_hat3)"
   ]
  },
  {
   "cell_type": "code",
   "execution_count": 102,
   "id": "a2ceef08",
   "metadata": {},
   "outputs": [
    {
     "data": {
      "text/plain": [
       "0.9387254901960784"
      ]
     },
     "execution_count": 102,
     "metadata": {},
     "output_type": "execute_result"
    }
   ],
   "source": [
    "#training accuracy\n",
    "y_train_acc_knn4= knn4.predict(X_train_sm)\n",
    "accuracy_score(y_train_acc_knn4, y_train_sm)"
   ]
  },
  {
   "cell_type": "code",
   "execution_count": 94,
   "id": "2cea5fe5",
   "metadata": {},
   "outputs": [],
   "source": [
    "# k value of 2 gives the testing accuracy of 0.73 after hyperparameter tuning\n",
    "# model is overfitting"
   ]
  }
 ],
 "metadata": {
  "kernelspec": {
   "display_name": "Python 3 (ipykernel)",
   "language": "python",
   "name": "python3"
  },
  "language_info": {
   "codemirror_mode": {
    "name": "ipython",
    "version": 3
   },
   "file_extension": ".py",
   "mimetype": "text/x-python",
   "name": "python",
   "nbconvert_exporter": "python",
   "pygments_lexer": "ipython3",
   "version": "3.11.5"
  }
 },
 "nbformat": 4,
 "nbformat_minor": 5
}
